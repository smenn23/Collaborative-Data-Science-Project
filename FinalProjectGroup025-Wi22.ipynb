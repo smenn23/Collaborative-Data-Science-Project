{
 "cells": [
  {
   "cell_type": "markdown",
   "metadata": {},
   "source": [
    "# COGS 108 - Investigation of the U.S. Food and Drug Administration's Recall Events"
   ]
  },
  {
   "cell_type": "markdown",
   "metadata": {},
   "source": [
    "*Presentation Video: https://youtu.be/qt6LS-d1t04*"
   ]
  },
  {
   "cell_type": "markdown",
   "metadata": {},
   "source": [
    "## Permissions\n",
    "\n",
    "Place an `X` in the appropriate bracket below to specify if you would like your group's project to be made available to the public. (Note that student names will be included (but PIDs will be scraped from any groups who include their PIDs).\n",
    "\n",
    "* [ X ] YES - make available\n",
    "* [  ] NO - keep private"
   ]
  },
  {
   "cell_type": "markdown",
   "metadata": {},
   "source": [
    "# Overview"
   ]
  },
  {
   "cell_type": "markdown",
   "metadata": {},
   "source": [
    "If the food on grocery shelves is deemed unfit for consumption, the U.S. Food and Drug Administration (FDA) provides oversight and ensures products get recollected in a timely matter. Our project aims to find what factors influence how long it takes the FDA to identify the level of danger a recall incident poses to consumers. We initially predicted that more serious recall incidents would take longer for the FDA to classify. We also investigated whether the breadth of product distribution also affects this same measure of time. Through visualizations, combing over rudimentary statistical attributes, and conducting A/B tests, we found no support for our hypothesis, nor did we identify any significant relationship between the scope of product distribution and classification time."
   ]
  },
  {
   "cell_type": "markdown",
   "metadata": {},
   "source": [
    "# Names\n",
    "\n",
    "- Jayden Lee\n",
    "- Seth Menn\n",
    "- Mingwen Jiang\n",
    "- William Nathan\n",
    "- Antonio Murillo"
   ]
  },
  {
   "cell_type": "markdown",
   "metadata": {},
   "source": [
    "<a id='research_question'></a>\n",
    "# Research Question"
   ]
  },
  {
   "cell_type": "markdown",
   "metadata": {},
   "source": [
    " Is there a correlation between the severity of a recall incident and the time it takes for the FDA to classify said incident? We define the severity of an incident to be its assigned classification level. And we will measure the time it took to classify the incident as the difference between the date the recall is initiated and the date the incident is listed as classified. Could the scope of the regions involved with product distribution also be related to this timespan measure? Separately, what trends in recall incidents do we see across time?"
   ]
  },
  {
   "cell_type": "markdown",
   "metadata": {},
   "source": [
    "<a id='background'></a>\n",
    "\n",
    "## Background & Prior Work"
   ]
  },
  {
   "cell_type": "markdown",
   "metadata": {},
   "source": [
    "##### Background\n",
    "  \n",
    "Food security is a hot topic in the United States. Food manufacturing conglomerates are continually looking for ways to cut costs through automation and hyper optimization, scaling their operations to feed a booming population. With this sheer volume in production comes an increase in the possibility that internal quality control processes cannot validate every single item leaving the production site. If not caught soon enough, the consequences can be fatal if a hazardous product makes it onto a consumer's dinner plate. The FDA (Food and Drug Administration) regulates this space to mitigate these happenings. Among other things, they are tasked with the oversight and tracking of recall incidents by classifying their relative health hazards. Recalls for products that could cause serious injury or death are classified as `Class I`, recalls for products which might cause serious injury or temporary illness are classified as `Class II`, and recalls for products that are unlikely to cause injury or illness but violate some subset of the FDA's regulations are classified as `Class III`. While there are inevitable delays in the vendors or retailers responding to the recall request and being able to fully pull impacted products off of their shelves, what are the factors that affect the time for the enforcement on the FDA's part? What would be the difference in the time between initially receiving the recall incident report and executing the recall under the three classifications? Throughout this project, our team tries to determine the relationship between the recall reaction time and the recall classifications.\n",
    "\n",
    "##### Prior Work\n",
    "While there exist several personal notebooks on Kaggle that use this dataset (or variants of it), their general and relatively shallow attempts at exploratory analysis do not address the relationship we are looking to explore. Beyond this, one would assume there are internal reports and audits of the FDA's processes that include food recall and subsequent response times. However, these audits are likely not information the government or third-party regulation agencies would ever feel the need to make public. As such, we can confidentally say our research question has us on a path to complete novel data analysis.\n",
    "\n",
    "##### References (links included):\n",
    "- 1) https://www.fda.gov/medical-devices/postmarket-requirements-devices/recalls-corrections-and-removals-devices\n",
    "- 2) https://www.eatthis.com/news-why-so-many-grocery-recalls-2021/\n",
    "- 3) https://www.kaggle.com/fda/fda-enforcement-actions/code"
   ]
  },
  {
   "cell_type": "markdown",
   "metadata": {},
   "source": [
    "# Hypothesis\n"
   ]
  },
  {
   "cell_type": "markdown",
   "metadata": {},
   "source": [
    "We hypothesize that it takes longer to classify health-hazardous products (Class I) than less harmful (Class II or Class III) products. We believe that while testing the fineness of all products takes a substantial amount of time, those products with a higher chance of being health-hazardous go through a longer testing process as more regulations need to be checked. Once they acknowledge this inefficiency, the FDA could make modifications to their regulation testing workflow to expedite the testing process of Class I products."
   ]
  },
  {
   "cell_type": "markdown",
   "metadata": {},
   "source": [
    "# Dataset(s)"
   ]
  },
  {
   "cell_type": "markdown",
   "metadata": {},
   "source": [
    "- Dataset Name: `food_enforcement.csv`\n",
    "- Link to the dataset: [Link](https://console.cloud.google.com/bigquery?p=bigquery-public-data&d=fda_food&t=food_enforcement&page=table&project=silken-avatar-335619&ws=!1m15!1m4!4m3!1sbigquery-public-data!2ssdoh_cdc_wonder_natality!3scounty_natality!1m4!4m3!1sbigquery-public-data!2sfda_food!3sfood_enforcement!1m4!4m3!1sbigquery-public-data!2sfda_food!3sfood_events); You might need GCP account to access into `bigquery` cloud\n",
    "- Number of observations: $21, 525$ recall records\n",
    "\n",
    "This dataset provides entries given to the FDA by suppliers in response to recall requests. The data includes dates of when the recall request was made and terminated, along with details of what products were included in the recall and where the products where distributed. The variables of interest in this project are recall dates (`recall_initiation_date`), dates of classification (`center_classification_date`), the incident classification level (`classification`), the country in which the responsible recalling firm is located in (`country`), and the states/territories affected product(s) were shipped to (`distribution_pattern`)."
   ]
  },
  {
   "cell_type": "markdown",
   "metadata": {},
   "source": [
    "# Setup"
   ]
  },
  {
   "cell_type": "code",
   "execution_count": 78,
   "metadata": {},
   "outputs": [],
   "source": [
    "%matplotlib inline\n",
    "\n",
    "from iso3166 import countries\n",
    "from IPython.display import display\n",
    "from scipy.stats import ttest_ind\n",
    "import re\n",
    "import numpy as np\n",
    "import pandas as pd\n",
    "import seaborn as sns\n",
    "import altair as alt\n",
    "import datetime as dt\n",
    "import matplotlib.pyplot as plt\n",
    "from scipy import stats\n",
    "\n",
    "# These options will prevent output from ballooning out.\n",
    "pd.set_option('display.max_column', None)\n",
    "pd.set_option('display.max_rows', 20)\n",
    "pd.set_option('display.max_seq_items', None)\n",
    "pd.set_option('expand_frame_repr', True)\n"
   ]
  },
  {
   "cell_type": "code",
   "execution_count": 79,
   "metadata": {},
   "outputs": [],
   "source": [
    "# Configure data type of each column for memory optimization.\n",
    "\n",
    "cols = ['classification', 'center_classification_date', 'report_date',\n",
    "        'postal_code', 'termination_date', 'recall_initiation_date',\n",
    "        'recall_number', 'city', 'event_id', 'distribution_pattern',\n",
    "        'recalling_firm', 'voluntary_mandated', 'state', 'reason_for_recall',\n",
    "        'initial_firm_notification', 'status', 'product_type', 'country',\n",
    "        'product_description', 'code_info', 'address_1', 'address_2',\n",
    "        'product_quantity', 'more_code_info'\n",
    "        ]\n",
    "\n",
    "types = [\n",
    "        str, str, str, str, str, str, str, str, int,\n",
    "        str, str, str, str, str, str, str, str, str,\n",
    "        str, str, str, str, str, str\n",
    "        ]\n",
    "\n",
    "dtypes = dict(zip(cols, types))\n"
   ]
  },
  {
   "cell_type": "code",
   "execution_count": 80,
   "metadata": {},
   "outputs": [
    {
     "data": {
      "text/html": [
       "<div>\n",
       "<style scoped>\n",
       "    .dataframe tbody tr th:only-of-type {\n",
       "        vertical-align: middle;\n",
       "    }\n",
       "\n",
       "    .dataframe tbody tr th {\n",
       "        vertical-align: top;\n",
       "    }\n",
       "\n",
       "    .dataframe thead th {\n",
       "        text-align: right;\n",
       "    }\n",
       "</style>\n",
       "<table border=\"1\" class=\"dataframe\">\n",
       "  <thead>\n",
       "    <tr style=\"text-align: right;\">\n",
       "      <th></th>\n",
       "      <th>classification</th>\n",
       "      <th>center_classification_date</th>\n",
       "      <th>report_date</th>\n",
       "      <th>postal_code</th>\n",
       "      <th>termination_date</th>\n",
       "      <th>recall_initiation_date</th>\n",
       "      <th>recall_number</th>\n",
       "      <th>city</th>\n",
       "      <th>event_id</th>\n",
       "      <th>distribution_pattern</th>\n",
       "      <th>recalling_firm</th>\n",
       "      <th>voluntary_mandated</th>\n",
       "      <th>state</th>\n",
       "      <th>reason_for_recall</th>\n",
       "      <th>initial_firm_notification</th>\n",
       "      <th>status</th>\n",
       "      <th>product_type</th>\n",
       "      <th>country</th>\n",
       "      <th>product_description</th>\n",
       "      <th>code_info</th>\n",
       "      <th>address_1</th>\n",
       "      <th>address_2</th>\n",
       "      <th>product_quantity</th>\n",
       "      <th>more_code_info</th>\n",
       "    </tr>\n",
       "  </thead>\n",
       "  <tbody>\n",
       "    <tr>\n",
       "      <th>0</th>\n",
       "      <td>Class II</td>\n",
       "      <td>2012-08-28</td>\n",
       "      <td>2012-09-05</td>\n",
       "      <td>02720-4713</td>\n",
       "      <td>2012-09-21</td>\n",
       "      <td>2012-08-15</td>\n",
       "      <td>F-2108-2012</td>\n",
       "      <td>Fall River</td>\n",
       "      <td>62868</td>\n",
       "      <td>Massachusetts, Maryland, New Jersey, New York,...</td>\n",
       "      <td>Blount Seafood Corporation</td>\n",
       "      <td>Voluntary: Firm initiated</td>\n",
       "      <td>MA</td>\n",
       "      <td>Foreign plastic material within the retail units</td>\n",
       "      <td>NaN</td>\n",
       "      <td>Terminated</td>\n",
       "      <td>Food</td>\n",
       "      <td>United States</td>\n",
       "      <td>Wegman's Lobster Bisque 16 oz retail cup  Prod...</td>\n",
       "      <td>Lot number 09012-6F  Use or Freeze By: 9/3/12</td>\n",
       "      <td>630 Currant Rd</td>\n",
       "      <td>NaN</td>\n",
       "      <td>141 cases/1692 units</td>\n",
       "      <td>NaN</td>\n",
       "    </tr>\n",
       "    <tr>\n",
       "      <th>1</th>\n",
       "      <td>Class II</td>\n",
       "      <td>2012-08-28</td>\n",
       "      <td>2012-09-05</td>\n",
       "      <td>02720-4713</td>\n",
       "      <td>2012-09-21</td>\n",
       "      <td>2012-08-15</td>\n",
       "      <td>F-2107-2012</td>\n",
       "      <td>Fall River</td>\n",
       "      <td>62868</td>\n",
       "      <td>Massachusetts, Maryland, New Jersey, New York,...</td>\n",
       "      <td>Blount Seafood Corporation</td>\n",
       "      <td>Voluntary: Firm initiated</td>\n",
       "      <td>MA</td>\n",
       "      <td>Foreign plastic material within the retail units</td>\n",
       "      <td>NaN</td>\n",
       "      <td>Terminated</td>\n",
       "      <td>Food</td>\n",
       "      <td>United States</td>\n",
       "      <td>Wegman's Caribbean Black Bean Soup 16 oz retai...</td>\n",
       "      <td>Lot number 060512-5F  Use or Freeze By: 9/3/12</td>\n",
       "      <td>630 Currant Rd</td>\n",
       "      <td>NaN</td>\n",
       "      <td>143 cases/1716 units</td>\n",
       "      <td>NaN</td>\n",
       "    </tr>\n",
       "    <tr>\n",
       "      <th>2</th>\n",
       "      <td>Class II</td>\n",
       "      <td>2012-08-28</td>\n",
       "      <td>2012-09-05</td>\n",
       "      <td>02720-4713</td>\n",
       "      <td>2012-09-21</td>\n",
       "      <td>2012-08-15</td>\n",
       "      <td>F-2106-2012</td>\n",
       "      <td>Fall River</td>\n",
       "      <td>62868</td>\n",
       "      <td>Massachusetts, Maryland, New Jersey, New York,...</td>\n",
       "      <td>Blount Seafood Corporation</td>\n",
       "      <td>Voluntary: Firm initiated</td>\n",
       "      <td>MA</td>\n",
       "      <td>Foreign plastic material within the retail units</td>\n",
       "      <td>NaN</td>\n",
       "      <td>Terminated</td>\n",
       "      <td>Food</td>\n",
       "      <td>United States</td>\n",
       "      <td>Wegman's Gazpacho Soup 16 oz retail cup  Produ...</td>\n",
       "      <td>Lot number 060412-8F  Use or freeze By: 9/2/12</td>\n",
       "      <td>630 Currant Rd</td>\n",
       "      <td>NaN</td>\n",
       "      <td>233 cases/2796 units</td>\n",
       "      <td>NaN</td>\n",
       "    </tr>\n",
       "    <tr>\n",
       "      <th>3</th>\n",
       "      <td>Class II</td>\n",
       "      <td>2012-08-28</td>\n",
       "      <td>2012-09-05</td>\n",
       "      <td>02720-4713</td>\n",
       "      <td>2012-09-21</td>\n",
       "      <td>2012-08-15</td>\n",
       "      <td>F-2105-2012</td>\n",
       "      <td>Fall River</td>\n",
       "      <td>62868</td>\n",
       "      <td>Massachusetts, Maryland, New Jersey, New York,...</td>\n",
       "      <td>Blount Seafood Corporation</td>\n",
       "      <td>Voluntary: Firm initiated</td>\n",
       "      <td>MA</td>\n",
       "      <td>Foreign plastic material within the retail units</td>\n",
       "      <td>NaN</td>\n",
       "      <td>Terminated</td>\n",
       "      <td>Food</td>\n",
       "      <td>United States</td>\n",
       "      <td>Wegman's Tomato Basil with Orzo Soup 16 oz ret...</td>\n",
       "      <td>Lot number 060512-3F  Use or Freeze By: 9/3/12</td>\n",
       "      <td>630 Currant Rd</td>\n",
       "      <td>NaN</td>\n",
       "      <td>143 cases/1716 units</td>\n",
       "      <td>NaN</td>\n",
       "    </tr>\n",
       "    <tr>\n",
       "      <th>4</th>\n",
       "      <td>Class III</td>\n",
       "      <td>2021-07-20</td>\n",
       "      <td>2021-07-28</td>\n",
       "      <td>10001-4006</td>\n",
       "      <td>NaN</td>\n",
       "      <td>2021-07-09</td>\n",
       "      <td>F-0789-2021</td>\n",
       "      <td>New York</td>\n",
       "      <td>88263</td>\n",
       "      <td>IN, TN, WI, CO, AZ</td>\n",
       "      <td>Bountiful Trading Inc</td>\n",
       "      <td>Voluntary: Firm initiated</td>\n",
       "      <td>NY</td>\n",
       "      <td>Vitamin D dietary supplement may contain Coq10</td>\n",
       "      <td>NaN</td>\n",
       "      <td>Ongoing</td>\n",
       "      <td>Food</td>\n",
       "      <td>United States</td>\n",
       "      <td>Kroger brand, Vitamin D3 125 mcg softgels, 100...</td>\n",
       "      <td>Prod # 19937, Lot # 508981-02, Exp 02/24  0412...</td>\n",
       "      <td>145 W 30th St Fl 6</td>\n",
       "      <td>NaN</td>\n",
       "      <td>12,360 bottles</td>\n",
       "      <td>NaN</td>\n",
       "    </tr>\n",
       "  </tbody>\n",
       "</table>\n",
       "</div>"
      ],
      "text/plain": [
       "  classification center_classification_date report_date postal_code  \\\n",
       "0       Class II                 2012-08-28  2012-09-05  02720-4713   \n",
       "1       Class II                 2012-08-28  2012-09-05  02720-4713   \n",
       "2       Class II                 2012-08-28  2012-09-05  02720-4713   \n",
       "3       Class II                 2012-08-28  2012-09-05  02720-4713   \n",
       "4      Class III                 2021-07-20  2021-07-28  10001-4006   \n",
       "\n",
       "  termination_date recall_initiation_date recall_number        city  event_id  \\\n",
       "0       2012-09-21             2012-08-15   F-2108-2012  Fall River     62868   \n",
       "1       2012-09-21             2012-08-15   F-2107-2012  Fall River     62868   \n",
       "2       2012-09-21             2012-08-15   F-2106-2012  Fall River     62868   \n",
       "3       2012-09-21             2012-08-15   F-2105-2012  Fall River     62868   \n",
       "4              NaN             2021-07-09   F-0789-2021    New York     88263   \n",
       "\n",
       "                                distribution_pattern  \\\n",
       "0  Massachusetts, Maryland, New Jersey, New York,...   \n",
       "1  Massachusetts, Maryland, New Jersey, New York,...   \n",
       "2  Massachusetts, Maryland, New Jersey, New York,...   \n",
       "3  Massachusetts, Maryland, New Jersey, New York,...   \n",
       "4                                 IN, TN, WI, CO, AZ   \n",
       "\n",
       "               recalling_firm         voluntary_mandated state  \\\n",
       "0  Blount Seafood Corporation  Voluntary: Firm initiated    MA   \n",
       "1  Blount Seafood Corporation  Voluntary: Firm initiated    MA   \n",
       "2  Blount Seafood Corporation  Voluntary: Firm initiated    MA   \n",
       "3  Blount Seafood Corporation  Voluntary: Firm initiated    MA   \n",
       "4       Bountiful Trading Inc  Voluntary: Firm initiated    NY   \n",
       "\n",
       "                                  reason_for_recall initial_firm_notification  \\\n",
       "0  Foreign plastic material within the retail units                       NaN   \n",
       "1  Foreign plastic material within the retail units                       NaN   \n",
       "2  Foreign plastic material within the retail units                       NaN   \n",
       "3  Foreign plastic material within the retail units                       NaN   \n",
       "4    Vitamin D dietary supplement may contain Coq10                       NaN   \n",
       "\n",
       "       status product_type        country  \\\n",
       "0  Terminated         Food  United States   \n",
       "1  Terminated         Food  United States   \n",
       "2  Terminated         Food  United States   \n",
       "3  Terminated         Food  United States   \n",
       "4     Ongoing         Food  United States   \n",
       "\n",
       "                                 product_description  \\\n",
       "0  Wegman's Lobster Bisque 16 oz retail cup  Prod...   \n",
       "1  Wegman's Caribbean Black Bean Soup 16 oz retai...   \n",
       "2  Wegman's Gazpacho Soup 16 oz retail cup  Produ...   \n",
       "3  Wegman's Tomato Basil with Orzo Soup 16 oz ret...   \n",
       "4  Kroger brand, Vitamin D3 125 mcg softgels, 100...   \n",
       "\n",
       "                                           code_info           address_1  \\\n",
       "0      Lot number 09012-6F  Use or Freeze By: 9/3/12      630 Currant Rd   \n",
       "1     Lot number 060512-5F  Use or Freeze By: 9/3/12      630 Currant Rd   \n",
       "2     Lot number 060412-8F  Use or freeze By: 9/2/12      630 Currant Rd   \n",
       "3     Lot number 060512-3F  Use or Freeze By: 9/3/12      630 Currant Rd   \n",
       "4  Prod # 19937, Lot # 508981-02, Exp 02/24  0412...  145 W 30th St Fl 6   \n",
       "\n",
       "  address_2      product_quantity more_code_info  \n",
       "0       NaN  141 cases/1692 units            NaN  \n",
       "1       NaN  143 cases/1716 units            NaN  \n",
       "2       NaN  233 cases/2796 units            NaN  \n",
       "3       NaN  143 cases/1716 units            NaN  \n",
       "4       NaN        12,360 bottles            NaN  "
      ]
     },
     "metadata": {},
     "output_type": "display_data"
    }
   ],
   "source": [
    "# Load in the dataset from the file.\n",
    "fp = 'data/food_enforcement.csv'\n",
    "data = pd.read_csv(fp, dtype=dtypes)\n",
    "\n",
    "display(data.head())\n"
   ]
  },
  {
   "cell_type": "markdown",
   "metadata": {},
   "source": [
    "# Data Cleaning"
   ]
  },
  {
   "cell_type": "markdown",
   "metadata": {},
   "source": [
    "### Data Type Conversions\n",
    "\n",
    "Notice there are several attributes in our raw data relevant to date. The two date attributes we plan to use to calculate the amount of time it took for an event to get classified are `center_classification_date` and `recall_initiation_date`. We will first convert the dtypes of these two columns into `datetime` object."
   ]
  },
  {
   "cell_type": "code",
   "execution_count": 81,
   "metadata": {},
   "outputs": [
    {
     "name": "stdout",
     "output_type": "stream",
     "text": [
      "<class 'pandas.core.frame.DataFrame'>\n",
      "Int64Index: 21524 entries, 0 to 21524\n",
      "Data columns (total 24 columns):\n",
      " #   Column                      Non-Null Count  Dtype         \n",
      "---  ------                      --------------  -----         \n",
      " 0   classification              21524 non-null  object        \n",
      " 1   center_classification_date  21524 non-null  datetime64[ns]\n",
      " 2   report_date                 21524 non-null  object        \n",
      " 3   postal_code                 21333 non-null  object        \n",
      " 4   termination_date            20421 non-null  object        \n",
      " 5   recall_initiation_date      21524 non-null  datetime64[ns]\n",
      " 6   recall_number               21523 non-null  object        \n",
      " 7   city                        21524 non-null  object        \n",
      " 8   event_id                    21524 non-null  int64         \n",
      " 9   distribution_pattern        21524 non-null  object        \n",
      " 10  recalling_firm              21524 non-null  object        \n",
      " 11  voluntary_mandated          21520 non-null  object        \n",
      " 12  state                       21347 non-null  object        \n",
      " 13  reason_for_recall           21524 non-null  object        \n",
      " 14  initial_firm_notification   21517 non-null  object        \n",
      " 15  status                      21524 non-null  object        \n",
      " 16  product_type                21524 non-null  object        \n",
      " 17  country                     21524 non-null  object        \n",
      " 18  product_description         21524 non-null  object        \n",
      " 19  code_info                   21478 non-null  object        \n",
      " 20  address_1                   21522 non-null  object        \n",
      " 21  address_2                   1246 non-null   object        \n",
      " 22  product_quantity            19961 non-null  object        \n",
      " 23  more_code_info              1 non-null      object        \n",
      "dtypes: datetime64[ns](2), int64(1), object(21)"
     ]
    },
    {
     "data": {
      "text/plain": [
       "None"
      ]
     },
     "metadata": {},
     "output_type": "display_data"
    }
   ],
   "source": [
    "# Define helper function for dtype conversion\n",
    "\n",
    "def convert_dtype(row):\n",
    "    '''\n",
    "    Helper function for load_data\n",
    "    Sets dtype of time-sensitive attributes to datetime\n",
    "    If the value is in incomprehensive format for datetime converter function\n",
    "    function replaces value with null, which will later be dropped\n",
    "    '''\n",
    "    date_cols = ['center_classification_date', 'recall_initiation_date']\n",
    "    date = row[date_cols]\n",
    "\n",
    "    for col in date_cols:\n",
    "        val = date[col]\n",
    "        try:\n",
    "            converted_date = pd.to_datetime(val)\n",
    "            row[col] = converted_date\n",
    "        except(Exception,):\n",
    "            row[col] = np.NaN\n",
    "\n",
    "    return row\n",
    "\n",
    "\n",
    "data = (data.apply(convert_dtype, axis=1)\n",
    "        .dropna(subset=['center_classification_date',\n",
    "                        'recall_initiation_date']))\n",
    "\n",
    "display(data.info(memory_usage=False))\n"
   ]
  },
  {
   "cell_type": "markdown",
   "metadata": {},
   "source": [
    "### Label Generation\n",
    "\n",
    "For all recall events in our data, each event is associated with a numerically designated class that indicates the relative degree of the health hazard an affected product poses. These are `Class I`, `Class II`, `Class III` respectively. These labels naturally exist as strings, which messes with the ordinal characteristic of our class; `Class I` is the highest health hazard level, and `Class III` is the lowest. We will define a custom data type for this column to correctly represent it as an ordinal categorical attribute."
   ]
  },
  {
   "cell_type": "code",
   "execution_count": 82,
   "metadata": {},
   "outputs": [
    {
     "name": "stdout",
     "output_type": "stream",
     "text": [
      "<class 'pandas.core.frame.DataFrame'>\n",
      "Int64Index: 21524 entries, 0 to 21524\n",
      "Data columns (total 24 columns):\n",
      " #   Column                      Non-Null Count  Dtype         \n",
      "---  ------                      --------------  -----         \n",
      " 0   classification              21524 non-null  category      \n",
      " 1   center_classification_date  21524 non-null  datetime64[ns]\n",
      " 2   report_date                 21524 non-null  object        \n",
      " 3   postal_code                 21333 non-null  object        \n",
      " 4   termination_date            20421 non-null  object        \n",
      " 5   recall_initiation_date      21524 non-null  datetime64[ns]\n",
      " 6   recall_number               21523 non-null  object        \n",
      " 7   city                        21524 non-null  object        \n",
      " 8   event_id                    21524 non-null  int64         \n",
      " 9   distribution_pattern        21524 non-null  object        \n",
      " 10  recalling_firm              21524 non-null  object        \n",
      " 11  voluntary_mandated          21520 non-null  object        \n",
      " 12  state                       21347 non-null  object        \n",
      " 13  reason_for_recall           21524 non-null  object        \n",
      " 14  initial_firm_notification   21517 non-null  object        \n",
      " 15  status                      21524 non-null  object        \n",
      " 16  product_type                21524 non-null  object        \n",
      " 17  country                     21524 non-null  object        \n",
      " 18  product_description         21524 non-null  object        \n",
      " 19  code_info                   21478 non-null  object        \n",
      " 20  address_1                   21522 non-null  object        \n",
      " 21  address_2                   1246 non-null   object        \n",
      " 22  product_quantity            19961 non-null  object        \n",
      " 23  more_code_info              1 non-null      object        \n",
      "dtypes: category(1), datetime64[ns](2), int64(1), object(20)"
     ]
    },
    {
     "data": {
      "text/plain": [
       "None"
      ]
     },
     "metadata": {},
     "output_type": "display_data"
    }
   ],
   "source": [
    "# Note that 'Class III' is the lowest health hazard level.\n",
    "vals = [\n",
    "    'Class I',\n",
    "    'Class II',\n",
    "    'Class III'\n",
    "]\n",
    "\n",
    "dtype = pd.CategoricalDtype(vals[::-1], ordered=True)\n",
    "\n",
    "# New dtype assignment\n",
    "data['classification'] = data['classification'].astype(dtype)\n",
    "\n",
    "display(data.info(memory_usage=False))\n"
   ]
  },
  {
   "cell_type": "markdown",
   "metadata": {},
   "source": [
    "### Handling Duplicates\n",
    "\n",
    "Our dataset contains over 21,000 total records of incident data. But does that mean it contains that many total incidents? It appears that multiple records can be tied to a singular incident identification number (`event_id`). The only separable features to discern incidents under this same number is their various production information that are ultimately irrelevant to our analysis. Therefore it would be a good idea to keep only one record per `event_id`."
   ]
  },
  {
   "cell_type": "code",
   "execution_count": 83,
   "metadata": {},
   "outputs": [
    {
     "name": "stdout",
     "output_type": "stream",
     "text": [
      "(21524, 24)\n"
     ]
    }
   ],
   "source": [
    "print(data.shape)\n"
   ]
  },
  {
   "cell_type": "code",
   "execution_count": 84,
   "metadata": {},
   "outputs": [],
   "source": [
    "data = data.drop_duplicates('event_id')\n"
   ]
  },
  {
   "cell_type": "code",
   "execution_count": 85,
   "metadata": {},
   "outputs": [
    {
     "name": "stdout",
     "output_type": "stream",
     "text": [
      "(5530, 24)\n"
     ]
    }
   ],
   "source": [
    "print(data.shape)\n"
   ]
  },
  {
   "cell_type": "markdown",
   "metadata": {},
   "source": [
    "We see that we reduced the size of our dataset by nearly 75%."
   ]
  },
  {
   "cell_type": "markdown",
   "metadata": {},
   "source": [
    "### Decreasing Dimensionality \n",
    "\n",
    "Our dataset contains 24 different attributes. While some of them will be of use to us, others are completely irrelevant to our project or have values that would otherwise make them unsuitable for analysis going forward. For example, a majority of values in the `address_2` and `more_code_info` columns are filled with a multitude of null values. Since those will not be helpful for the scope of our project and can cause distortions in future analysis, we will exclude those preemptively."
   ]
  },
  {
   "cell_type": "code",
   "execution_count": 86,
   "metadata": {},
   "outputs": [
    {
     "data": {
      "text/html": [
       "<div>\n",
       "<style scoped>\n",
       "    .dataframe tbody tr th:only-of-type {\n",
       "        vertical-align: middle;\n",
       "    }\n",
       "\n",
       "    .dataframe tbody tr th {\n",
       "        vertical-align: top;\n",
       "    }\n",
       "\n",
       "    .dataframe thead th {\n",
       "        text-align: right;\n",
       "    }\n",
       "</style>\n",
       "<table border=\"1\" class=\"dataframe\">\n",
       "  <thead>\n",
       "    <tr style=\"text-align: right;\">\n",
       "      <th></th>\n",
       "      <th>classification</th>\n",
       "      <th>center_classification_date</th>\n",
       "      <th>recall_initiation_date</th>\n",
       "      <th>city</th>\n",
       "      <th>distribution_pattern</th>\n",
       "      <th>state</th>\n",
       "      <th>country</th>\n",
       "    </tr>\n",
       "  </thead>\n",
       "  <tbody>\n",
       "    <tr>\n",
       "      <th>0</th>\n",
       "      <td>Class II</td>\n",
       "      <td>2012-08-28</td>\n",
       "      <td>2012-08-15</td>\n",
       "      <td>Fall River</td>\n",
       "      <td>Massachusetts, Maryland, New Jersey, New York,...</td>\n",
       "      <td>MA</td>\n",
       "      <td>United States</td>\n",
       "    </tr>\n",
       "    <tr>\n",
       "      <th>4</th>\n",
       "      <td>Class III</td>\n",
       "      <td>2021-07-20</td>\n",
       "      <td>2021-07-09</td>\n",
       "      <td>New York</td>\n",
       "      <td>IN, TN, WI, CO, AZ</td>\n",
       "      <td>NY</td>\n",
       "      <td>United States</td>\n",
       "    </tr>\n",
       "    <tr>\n",
       "      <th>5</th>\n",
       "      <td>Class I</td>\n",
       "      <td>2021-09-21</td>\n",
       "      <td>2021-08-30</td>\n",
       "      <td>Astoria</td>\n",
       "      <td>New York, Maryland, Virginia, Pennsylvania, Co...</td>\n",
       "      <td>NY</td>\n",
       "      <td>United States</td>\n",
       "    </tr>\n",
       "    <tr>\n",
       "      <th>6</th>\n",
       "      <td>Class II</td>\n",
       "      <td>2019-05-13</td>\n",
       "      <td>2019-04-15</td>\n",
       "      <td>Brooklyn</td>\n",
       "      <td>Distributed to 16 retailers in the Brooklyn &amp; ...</td>\n",
       "      <td>NY</td>\n",
       "      <td>United States</td>\n",
       "    </tr>\n",
       "    <tr>\n",
       "      <th>7</th>\n",
       "      <td>Class I</td>\n",
       "      <td>2013-11-01</td>\n",
       "      <td>2013-09-25</td>\n",
       "      <td>Pittsburgh</td>\n",
       "      <td>MD, OH, PA, WV</td>\n",
       "      <td>PA</td>\n",
       "      <td>United States</td>\n",
       "    </tr>\n",
       "  </tbody>\n",
       "</table>\n",
       "</div>"
      ],
      "text/plain": [
       "  classification center_classification_date recall_initiation_date  \\\n",
       "0       Class II                 2012-08-28             2012-08-15   \n",
       "4      Class III                 2021-07-20             2021-07-09   \n",
       "5        Class I                 2021-09-21             2021-08-30   \n",
       "6       Class II                 2019-05-13             2019-04-15   \n",
       "7        Class I                 2013-11-01             2013-09-25   \n",
       "\n",
       "         city                               distribution_pattern state  \\\n",
       "0  Fall River  Massachusetts, Maryland, New Jersey, New York,...    MA   \n",
       "4    New York                                 IN, TN, WI, CO, AZ    NY   \n",
       "5     Astoria  New York, Maryland, Virginia, Pennsylvania, Co...    NY   \n",
       "6    Brooklyn  Distributed to 16 retailers in the Brooklyn & ...    NY   \n",
       "7  Pittsburgh                                     MD, OH, PA, WV    PA   \n",
       "\n",
       "         country  \n",
       "0  United States  \n",
       "4  United States  \n",
       "5  United States  \n",
       "6  United States  \n",
       "7  United States  "
      ]
     },
     "metadata": {},
     "output_type": "display_data"
    }
   ],
   "source": [
    "# Define column labels we don't need\n",
    "\n",
    "excludes = [\n",
    "    'postal_code', 'report_date', 'termination_date',\n",
    "    'recall_number', 'event_id', 'voluntary_mandated',\n",
    "    'initial_firm_notification', 'code_info', 'more_code_info',\n",
    "    'address_1', 'address_2', 'product_quantity',\n",
    "    'status', 'product_type', 'product_description',\n",
    "    'recalling_firm', 'reason_for_recall',\n",
    "    ]\n",
    "\n",
    "# Drop those columns\n",
    "data = data.drop(columns=excludes)\n",
    "\n",
    "display(data.head())\n"
   ]
  },
  {
   "cell_type": "markdown",
   "metadata": {},
   "source": [
    "### Calculating Classification Duration\n",
    "\n",
    "We add a new column to the dataset given how long it took to classify each recall incident measured in total days."
   ]
  },
  {
   "cell_type": "code",
   "execution_count": 87,
   "metadata": {},
   "outputs": [],
   "source": [
    "data.insert(6,'classification_duration', 0 ,False)\n",
    "data['classification_duration'] = (data['center_classification_date']\n",
    "                                   - data['recall_initiation_date']).dt.days\n"
   ]
  },
  {
   "cell_type": "code",
   "execution_count": 88,
   "metadata": {},
   "outputs": [
    {
     "data": {
      "text/html": [
       "<div>\n",
       "<style scoped>\n",
       "    .dataframe tbody tr th:only-of-type {\n",
       "        vertical-align: middle;\n",
       "    }\n",
       "\n",
       "    .dataframe tbody tr th {\n",
       "        vertical-align: top;\n",
       "    }\n",
       "\n",
       "    .dataframe thead th {\n",
       "        text-align: right;\n",
       "    }\n",
       "</style>\n",
       "<table border=\"1\" class=\"dataframe\">\n",
       "  <thead>\n",
       "    <tr style=\"text-align: right;\">\n",
       "      <th></th>\n",
       "      <th>classification</th>\n",
       "      <th>center_classification_date</th>\n",
       "      <th>recall_initiation_date</th>\n",
       "      <th>city</th>\n",
       "      <th>distribution_pattern</th>\n",
       "      <th>state</th>\n",
       "      <th>classification_duration</th>\n",
       "      <th>country</th>\n",
       "    </tr>\n",
       "  </thead>\n",
       "  <tbody>\n",
       "    <tr>\n",
       "      <th>0</th>\n",
       "      <td>Class II</td>\n",
       "      <td>2012-08-28</td>\n",
       "      <td>2012-08-15</td>\n",
       "      <td>Fall River</td>\n",
       "      <td>Massachusetts, Maryland, New Jersey, New York,...</td>\n",
       "      <td>MA</td>\n",
       "      <td>13</td>\n",
       "      <td>United States</td>\n",
       "    </tr>\n",
       "    <tr>\n",
       "      <th>4</th>\n",
       "      <td>Class III</td>\n",
       "      <td>2021-07-20</td>\n",
       "      <td>2021-07-09</td>\n",
       "      <td>New York</td>\n",
       "      <td>IN, TN, WI, CO, AZ</td>\n",
       "      <td>NY</td>\n",
       "      <td>11</td>\n",
       "      <td>United States</td>\n",
       "    </tr>\n",
       "    <tr>\n",
       "      <th>5</th>\n",
       "      <td>Class I</td>\n",
       "      <td>2021-09-21</td>\n",
       "      <td>2021-08-30</td>\n",
       "      <td>Astoria</td>\n",
       "      <td>New York, Maryland, Virginia, Pennsylvania, Co...</td>\n",
       "      <td>NY</td>\n",
       "      <td>22</td>\n",
       "      <td>United States</td>\n",
       "    </tr>\n",
       "    <tr>\n",
       "      <th>6</th>\n",
       "      <td>Class II</td>\n",
       "      <td>2019-05-13</td>\n",
       "      <td>2019-04-15</td>\n",
       "      <td>Brooklyn</td>\n",
       "      <td>Distributed to 16 retailers in the Brooklyn &amp; ...</td>\n",
       "      <td>NY</td>\n",
       "      <td>28</td>\n",
       "      <td>United States</td>\n",
       "    </tr>\n",
       "    <tr>\n",
       "      <th>7</th>\n",
       "      <td>Class I</td>\n",
       "      <td>2013-11-01</td>\n",
       "      <td>2013-09-25</td>\n",
       "      <td>Pittsburgh</td>\n",
       "      <td>MD, OH, PA, WV</td>\n",
       "      <td>PA</td>\n",
       "      <td>37</td>\n",
       "      <td>United States</td>\n",
       "    </tr>\n",
       "  </tbody>\n",
       "</table>\n",
       "</div>"
      ],
      "text/plain": [
       "  classification center_classification_date recall_initiation_date  \\\n",
       "0       Class II                 2012-08-28             2012-08-15   \n",
       "4      Class III                 2021-07-20             2021-07-09   \n",
       "5        Class I                 2021-09-21             2021-08-30   \n",
       "6       Class II                 2019-05-13             2019-04-15   \n",
       "7        Class I                 2013-11-01             2013-09-25   \n",
       "\n",
       "         city                               distribution_pattern state  \\\n",
       "0  Fall River  Massachusetts, Maryland, New Jersey, New York,...    MA   \n",
       "4    New York                                 IN, TN, WI, CO, AZ    NY   \n",
       "5     Astoria  New York, Maryland, Virginia, Pennsylvania, Co...    NY   \n",
       "6    Brooklyn  Distributed to 16 retailers in the Brooklyn & ...    NY   \n",
       "7  Pittsburgh                                     MD, OH, PA, WV    PA   \n",
       "\n",
       "   classification_duration        country  \n",
       "0                       13  United States  \n",
       "4                       11  United States  \n",
       "5                       22  United States  \n",
       "6                       28  United States  \n",
       "7                       37  United States  "
      ]
     },
     "metadata": {},
     "output_type": "display_data"
    }
   ],
   "source": [
    "display(data.head())\n"
   ]
  },
  {
   "cell_type": "markdown",
   "metadata": {},
   "source": [
    "We also need to get a rough idea of what countries (other than the United States) recalling firms are based in."
   ]
  },
  {
   "cell_type": "code",
   "execution_count": 89,
   "metadata": {},
   "outputs": [
    {
     "data": {
      "text/html": [
       "<div>\n",
       "<style scoped>\n",
       "    .dataframe tbody tr th:only-of-type {\n",
       "        vertical-align: middle;\n",
       "    }\n",
       "\n",
       "    .dataframe tbody tr th {\n",
       "        vertical-align: top;\n",
       "    }\n",
       "\n",
       "    .dataframe thead th {\n",
       "        text-align: right;\n",
       "    }\n",
       "</style>\n",
       "<table border=\"1\" class=\"dataframe\">\n",
       "  <thead>\n",
       "    <tr style=\"text-align: right;\">\n",
       "      <th></th>\n",
       "      <th>classification</th>\n",
       "      <th>center_classification_date</th>\n",
       "      <th>recall_initiation_date</th>\n",
       "      <th>city</th>\n",
       "      <th>distribution_pattern</th>\n",
       "      <th>state</th>\n",
       "      <th>classification_duration</th>\n",
       "      <th>country</th>\n",
       "    </tr>\n",
       "  </thead>\n",
       "  <tbody>\n",
       "    <tr>\n",
       "      <th>712</th>\n",
       "      <td>Class I</td>\n",
       "      <td>2021-11-17</td>\n",
       "      <td>2021-10-28</td>\n",
       "      <td>Leamington</td>\n",
       "      <td>Domestic distribution - Florida</td>\n",
       "      <td>NaN</td>\n",
       "      <td>20</td>\n",
       "      <td>Canada</td>\n",
       "    </tr>\n",
       "    <tr>\n",
       "      <th>713</th>\n",
       "      <td>Class II</td>\n",
       "      <td>2021-01-27</td>\n",
       "      <td>2021-01-14</td>\n",
       "      <td>Seoul</td>\n",
       "      <td>NJ, WA, CA, MD, NY</td>\n",
       "      <td>NaN</td>\n",
       "      <td>13</td>\n",
       "      <td>Korea (the Republic of)</td>\n",
       "    </tr>\n",
       "    <tr>\n",
       "      <th>714</th>\n",
       "      <td>Class I</td>\n",
       "      <td>2019-01-28</td>\n",
       "      <td>2018-12-07</td>\n",
       "      <td>Guadalajara</td>\n",
       "      <td>United States</td>\n",
       "      <td>NaN</td>\n",
       "      <td>52</td>\n",
       "      <td>Mexico</td>\n",
       "    </tr>\n",
       "    <tr>\n",
       "      <th>715</th>\n",
       "      <td>Class II</td>\n",
       "      <td>2019-02-05</td>\n",
       "      <td>2018-12-05</td>\n",
       "      <td>Bristol</td>\n",
       "      <td>US Distribution: Direct to CA and MA</td>\n",
       "      <td>NaN</td>\n",
       "      <td>62</td>\n",
       "      <td>United Kingdom</td>\n",
       "    </tr>\n",
       "    <tr>\n",
       "      <th>716</th>\n",
       "      <td>Class II</td>\n",
       "      <td>2021-09-13</td>\n",
       "      <td>2021-05-25</td>\n",
       "      <td>Maple Ridge</td>\n",
       "      <td>Distributed in Arizona, California, Florida, K...</td>\n",
       "      <td>NaN</td>\n",
       "      <td>111</td>\n",
       "      <td>Canada</td>\n",
       "    </tr>\n",
       "    <tr>\n",
       "      <th>...</th>\n",
       "      <td>...</td>\n",
       "      <td>...</td>\n",
       "      <td>...</td>\n",
       "      <td>...</td>\n",
       "      <td>...</td>\n",
       "      <td>...</td>\n",
       "      <td>...</td>\n",
       "      <td>...</td>\n",
       "    </tr>\n",
       "    <tr>\n",
       "      <th>13421</th>\n",
       "      <td>Class II</td>\n",
       "      <td>2018-11-30</td>\n",
       "      <td>2018-10-30</td>\n",
       "      <td>Delta</td>\n",
       "      <td>Missouri</td>\n",
       "      <td>NaN</td>\n",
       "      <td>31</td>\n",
       "      <td>Canada</td>\n",
       "    </tr>\n",
       "    <tr>\n",
       "      <th>13422</th>\n",
       "      <td>Class II</td>\n",
       "      <td>2013-10-30</td>\n",
       "      <td>2013-10-07</td>\n",
       "      <td>Mississauga</td>\n",
       "      <td>Canada</td>\n",
       "      <td>Ontario</td>\n",
       "      <td>23</td>\n",
       "      <td>Canada</td>\n",
       "    </tr>\n",
       "    <tr>\n",
       "      <th>13426</th>\n",
       "      <td>Class I</td>\n",
       "      <td>2019-08-21</td>\n",
       "      <td>2019-07-12</td>\n",
       "      <td>Saint-Leonard</td>\n",
       "      <td>GOODS WERE DISTRIBUTED ACROSS THE STATES OF NE...</td>\n",
       "      <td>NaN</td>\n",
       "      <td>40</td>\n",
       "      <td>Canada</td>\n",
       "    </tr>\n",
       "    <tr>\n",
       "      <th>13428</th>\n",
       "      <td>Class II</td>\n",
       "      <td>2017-08-04</td>\n",
       "      <td>2017-06-22</td>\n",
       "      <td>Toronto</td>\n",
       "      <td>Puerto Rico only</td>\n",
       "      <td>NaN</td>\n",
       "      <td>43</td>\n",
       "      <td>Canada</td>\n",
       "    </tr>\n",
       "    <tr>\n",
       "      <th>13429</th>\n",
       "      <td>Class III</td>\n",
       "      <td>2019-05-23</td>\n",
       "      <td>2019-04-08</td>\n",
       "      <td>Xi'An</td>\n",
       "      <td>U.S. distribution to the following: CA, OH, TX...</td>\n",
       "      <td>NaN</td>\n",
       "      <td>45</td>\n",
       "      <td>China</td>\n",
       "    </tr>\n",
       "  </tbody>\n",
       "</table>\n",
       "<p>94 rows × 8 columns</p>\n",
       "</div>"
      ],
      "text/plain": [
       "      classification center_classification_date recall_initiation_date  \\\n",
       "712          Class I                 2021-11-17             2021-10-28   \n",
       "713         Class II                 2021-01-27             2021-01-14   \n",
       "714          Class I                 2019-01-28             2018-12-07   \n",
       "715         Class II                 2019-02-05             2018-12-05   \n",
       "716         Class II                 2021-09-13             2021-05-25   \n",
       "...              ...                        ...                    ...   \n",
       "13421       Class II                 2018-11-30             2018-10-30   \n",
       "13422       Class II                 2013-10-30             2013-10-07   \n",
       "13426        Class I                 2019-08-21             2019-07-12   \n",
       "13428       Class II                 2017-08-04             2017-06-22   \n",
       "13429      Class III                 2019-05-23             2019-04-08   \n",
       "\n",
       "                city                               distribution_pattern  \\\n",
       "712       Leamington                    Domestic distribution - Florida   \n",
       "713            Seoul                                 NJ, WA, CA, MD, NY   \n",
       "714      Guadalajara                                      United States   \n",
       "715          Bristol               US Distribution: Direct to CA and MA   \n",
       "716      Maple Ridge  Distributed in Arizona, California, Florida, K...   \n",
       "...              ...                                                ...   \n",
       "13421          Delta                                           Missouri   \n",
       "13422    Mississauga                                             Canada   \n",
       "13426  Saint-Leonard  GOODS WERE DISTRIBUTED ACROSS THE STATES OF NE...   \n",
       "13428        Toronto                                   Puerto Rico only   \n",
       "13429          Xi'An  U.S. distribution to the following: CA, OH, TX...   \n",
       "\n",
       "         state  classification_duration                  country  \n",
       "712        NaN                       20                   Canada  \n",
       "713        NaN                       13  Korea (the Republic of)  \n",
       "714        NaN                       52                   Mexico  \n",
       "715        NaN                       62           United Kingdom  \n",
       "716        NaN                      111                   Canada  \n",
       "...        ...                      ...                      ...  \n",
       "13421      NaN                       31                   Canada  \n",
       "13422  Ontario                       23                   Canada  \n",
       "13426      NaN                       40                   Canada  \n",
       "13428      NaN                       43                   Canada  \n",
       "13429      NaN                       45                    China  \n",
       "\n",
       "[94 rows x 8 columns]"
      ]
     },
     "metadata": {},
     "output_type": "display_data"
    }
   ],
   "source": [
    "display(data[data['country'] != 'United States'])\n"
   ]
  },
  {
   "cell_type": "markdown",
   "metadata": {},
   "source": [
    "### Column Standardization\n",
    "\n",
    "Because a number of the columns are inputted by the individual firms without a specific format, they are relatively inconsistent across the board. In this section we will standardize the columns we will most certainly need during our analysis."
   ]
  },
  {
   "cell_type": "markdown",
   "metadata": {},
   "source": [
    "We should go ahead and get rid of the remaining missing values not already taken care of before going any further."
   ]
  },
  {
   "cell_type": "code",
   "execution_count": 90,
   "metadata": {},
   "outputs": [
    {
     "name": "stdout",
     "output_type": "stream",
     "text": [
      "(5530, 8)\n"
     ]
    }
   ],
   "source": [
    "print(data.shape)\n"
   ]
  },
  {
   "cell_type": "code",
   "execution_count": 91,
   "metadata": {},
   "outputs": [],
   "source": [
    "data = data.dropna()\n"
   ]
  },
  {
   "cell_type": "code",
   "execution_count": 92,
   "metadata": {},
   "outputs": [
    {
     "name": "stdout",
     "output_type": "stream",
     "text": [
      "(5446, 8)\n"
     ]
    }
   ],
   "source": [
    "print(data.shape)\n"
   ]
  },
  {
   "cell_type": "markdown",
   "metadata": {},
   "source": [
    "Moving forward, now we need to get an idea of what different types of region inputs we have for the distribution pattern."
   ]
  },
  {
   "cell_type": "code",
   "execution_count": 93,
   "metadata": {},
   "outputs": [
    {
     "data": {
      "text/html": [
       "<div>\n",
       "<style scoped>\n",
       "    .dataframe tbody tr th:only-of-type {\n",
       "        vertical-align: middle;\n",
       "    }\n",
       "\n",
       "    .dataframe tbody tr th {\n",
       "        vertical-align: top;\n",
       "    }\n",
       "\n",
       "    .dataframe thead th {\n",
       "        text-align: right;\n",
       "    }\n",
       "</style>\n",
       "<table border=\"1\" class=\"dataframe\">\n",
       "  <thead>\n",
       "    <tr style=\"text-align: right;\">\n",
       "      <th></th>\n",
       "      <th>distribution_pattern</th>\n",
       "      <th>count</th>\n",
       "    </tr>\n",
       "  </thead>\n",
       "  <tbody>\n",
       "    <tr>\n",
       "      <th>0</th>\n",
       "      <td>Nationwide</td>\n",
       "      <td>166</td>\n",
       "    </tr>\n",
       "    <tr>\n",
       "      <th>1</th>\n",
       "      <td>CA</td>\n",
       "      <td>51</td>\n",
       "    </tr>\n",
       "    <tr>\n",
       "      <th>2</th>\n",
       "      <td>NY</td>\n",
       "      <td>50</td>\n",
       "    </tr>\n",
       "    <tr>\n",
       "      <th>3</th>\n",
       "      <td>Texas</td>\n",
       "      <td>45</td>\n",
       "    </tr>\n",
       "    <tr>\n",
       "      <th>4</th>\n",
       "      <td>nationwide</td>\n",
       "      <td>35</td>\n",
       "    </tr>\n",
       "    <tr>\n",
       "      <th>...</th>\n",
       "      <td>...</td>\n",
       "      <td>...</td>\n",
       "    </tr>\n",
       "    <tr>\n",
       "      <th>4385</th>\n",
       "      <td>FL, GA KY, NC, OH, PA, SC, TN and WV.</td>\n",
       "      <td>1</td>\n",
       "    </tr>\n",
       "    <tr>\n",
       "      <th>4386</th>\n",
       "      <td>FL, GA and TX.</td>\n",
       "      <td>1</td>\n",
       "    </tr>\n",
       "    <tr>\n",
       "      <th>4387</th>\n",
       "      <td>FL, GA, IA, IL, NC, RI, TN, TX, VA, &amp; WA.</td>\n",
       "      <td>1</td>\n",
       "    </tr>\n",
       "    <tr>\n",
       "      <th>4388</th>\n",
       "      <td>FL, GA, IL, IN, KS, KY, MA, MI, MO, MC, OH, PA...</td>\n",
       "      <td>1</td>\n",
       "    </tr>\n",
       "    <tr>\n",
       "      <th>4389</th>\n",
       "      <td>worldwide distribution</td>\n",
       "      <td>1</td>\n",
       "    </tr>\n",
       "  </tbody>\n",
       "</table>\n",
       "<p>4390 rows × 2 columns</p>\n",
       "</div>"
      ],
      "text/plain": [
       "                                   distribution_pattern  count\n",
       "0                                            Nationwide    166\n",
       "1                                                    CA     51\n",
       "2                                                    NY     50\n",
       "3                                                 Texas     45\n",
       "4                                            nationwide     35\n",
       "...                                                 ...    ...\n",
       "4385              FL, GA KY, NC, OH, PA, SC, TN and WV.      1\n",
       "4386                                     FL, GA and TX.      1\n",
       "4387          FL, GA, IA, IL, NC, RI, TN, TX, VA, & WA.      1\n",
       "4388  FL, GA, IL, IN, KS, KY, MA, MI, MO, MC, OH, PA...      1\n",
       "4389                             worldwide distribution      1\n",
       "\n",
       "[4390 rows x 2 columns]"
      ]
     },
     "metadata": {},
     "output_type": "display_data"
    }
   ],
   "source": [
    "distribution_counts = pd.DataFrame(data.value_counts(subset=['distribution_pattern'])).reset_index()\n",
    "distribution_counts.rename(columns={0:'count'}, inplace=True)\n",
    "\n",
    "display(distribution_counts)\n"
   ]
  },
  {
   "cell_type": "markdown",
   "metadata": {},
   "source": [
    "The state column has U.S states in abbreviations while other territories are displayed as their full names. We will translate the U.S state abbreviations into their corresponding full names as well for consistency."
   ]
  },
  {
   "cell_type": "code",
   "execution_count": 94,
   "metadata": {},
   "outputs": [],
   "source": [
    "# Define a state to abbreviation mapping for conversion.\n",
    "code_to_state = {\n",
    "    'AL': 'Alabama',\n",
    "    'AK': 'Alaska',\n",
    "    'AZ': 'Arizona',\n",
    "    'AR': 'Arkansas',\n",
    "    'CA': 'California',\n",
    "    'CO': 'Colorado',\n",
    "    'CT': 'Connecticut',\n",
    "    'DE': 'Delaware',\n",
    "    'FL': 'Florida',\n",
    "    'GA': 'Georgia',\n",
    "    'HI': 'Hawaii',\n",
    "    'ID': 'Idaho',\n",
    "    'IL': 'Illinois',\n",
    "    'IN': 'Indiana',\n",
    "    'IA': 'Iowa',\n",
    "    'KS': 'Kansas',\n",
    "    'KY': 'Kentucky',\n",
    "    'LA': 'Louisiana',\n",
    "    'ME': 'Maine',\n",
    "    'MD': 'Maryland',\n",
    "    'MA': 'Massachusetts',\n",
    "    'MI': 'Michigan',\n",
    "    'MN': 'Minnesota',\n",
    "    'MS': 'Mississippi',\n",
    "    'MO': 'Missouri',\n",
    "    'MT': 'Montana',\n",
    "    'NE': 'Nebraska',\n",
    "    'NV': 'Nevada',\n",
    "    'NH': 'New Hampshire',\n",
    "    'NJ': 'New Jersey',\n",
    "    'NM': 'New Mexico',\n",
    "    'NY': 'New York',\n",
    "    'NC': 'North Carolina',\n",
    "    'ND': 'North Dakota',\n",
    "    'OH': 'Ohio',\n",
    "    'OK': 'Oklahoma',\n",
    "    'OR': 'Oregon',\n",
    "    'PA': 'Pennsylvania',\n",
    "    'RI': 'Rhode Island',\n",
    "    'SC': 'South Carolina',\n",
    "    'SD': 'South Dakota',\n",
    "    'TN': 'Tennessee',\n",
    "    'TX': 'Texas',\n",
    "    'UT': 'Utah',\n",
    "    'VT': 'Vermont',\n",
    "    'VA': 'Virginia',\n",
    "    'WA': 'Washington',\n",
    "    'WV': 'West Virginia',\n",
    "    'WI': 'Wisconsin',\n",
    "    'WY': 'Wyoming',\n",
    "    'DC': 'District of Columbia',\n",
    "    'AS': 'American Samoa',\n",
    "    'GU': 'Guam',\n",
    "    'MP': 'Northern Mariana Islands',\n",
    "    'PR': 'Puerto Rico',\n",
    "    'UM': 'United States Minor Outlying Islands',\n",
    "    'VI': 'U.S. Virgin Islands'\n",
    "    }\n",
    "\n",
    "data['state'] = data['state'].replace(code_to_state)\n"
   ]
  },
  {
   "cell_type": "markdown",
   "metadata": {},
   "source": [
    "The `distribution_pattern` column, again, was inputted by hand and its inputs vary far too wildly. We will need to create a new column called `distribution_scope` which is a simplified version of `distribution_pattern`. Their values will be either be *International*, *Nationwide*, or *NaN* (when the scope cannot be determined from the associated pattern). We will look for certain keywords like country names for *International* or state names and/or abbreviations for *Nationwide*."
   ]
  },
  {
   "cell_type": "markdown",
   "metadata": {},
   "source": [
    "First we setup the list of countries and states and generate corresponding regex patterns for them."
   ]
  },
  {
   "cell_type": "code",
   "execution_count": 95,
   "metadata": {},
   "outputs": [],
   "source": [
    "# setup to standardize distribution\n",
    "other_countries = list(map(lambda x: x.name, countries))\n",
    "other_countries.remove('United States of America')\n",
    "other_countries.remove('United States Minor Outlying Islands')\n",
    "other_countries.remove('Virgin Islands, U.S.')\n",
    "\n",
    "country_regex = '|'.join(map(re.escape, map(lambda x: x.lower(),\n",
    "                                            other_countries)))\n",
    "code_regex = '|'.join(map(re.escape, code_to_state.keys()))\n",
    "state_regex = '|'.join(map(re.escape, map(lambda x: x.lower(),\n",
    "                                          code_to_state.values())))\n"
   ]
  },
  {
   "cell_type": "markdown",
   "metadata": {},
   "source": [
    "Then we assign values to scope based on the keywords found in respective patterns."
   ]
  },
  {
   "cell_type": "code",
   "execution_count": 96,
   "metadata": {},
   "outputs": [],
   "source": [
    "# Let's go ahead and standardize the distribution pattern.\n",
    "\n",
    "data['distribution_scope'] = np.nan\n",
    "\n",
    "dist = data['distribution_pattern']\n",
    "\n",
    "data.loc[dist.str.lower().str.contains('nationwide'),\n",
    "         'distribution_scope'] = 'Nationwide'\n",
    "data.loc[dist.str.lower().str.contains('united states'),\n",
    "         'distribution_scope'] = 'Nationwide'\n",
    "data.loc[dist.str.lower().str.contains('domestic'),\n",
    "         'distribution_scope'] = 'Nationwide'\n",
    "data.loc[dist.str.contains(code_regex),\n",
    "         'distribution_scope'] = 'Nationwide'\n",
    "data.loc[dist.str.contains('US'),\n",
    "         'distribution_scope'] = 'Nationwide'\n",
    "data.loc[dist.str.contains('U.S.'),\n",
    "         'distribution_scope'] = 'Nationwide'\n",
    "data.loc[dist.str.lower().str.contains(state_regex),\n",
    "         'distribution_scope'] = 'Nationwide'\n",
    "data.loc[dist == 'Distributed to all 50 states.  No foreign countries.',\n",
    "         'distribution_scope'] = 'Nationwide'\n",
    "\n",
    "data.loc[dist.str.lower().str.contains('international'),\n",
    "         'distribution_scope'] = 'International'\n",
    "data.loc[dist.str.lower().str.contains('worldwide'),\n",
    "         'distribution_scope'] = 'International'\n",
    "data.loc[dist.str.lower().str.contains(country_regex),\n",
    "         'distribution_scope'] = 'International'\n"
   ]
  },
  {
   "cell_type": "code",
   "execution_count": 97,
   "metadata": {
    "scrolled": true
   },
   "outputs": [
    {
     "data": {
      "text/html": [
       "<div>\n",
       "<style scoped>\n",
       "    .dataframe tbody tr th:only-of-type {\n",
       "        vertical-align: middle;\n",
       "    }\n",
       "\n",
       "    .dataframe tbody tr th {\n",
       "        vertical-align: top;\n",
       "    }\n",
       "\n",
       "    .dataframe thead th {\n",
       "        text-align: right;\n",
       "    }\n",
       "</style>\n",
       "<table border=\"1\" class=\"dataframe\">\n",
       "  <thead>\n",
       "    <tr style=\"text-align: right;\">\n",
       "      <th></th>\n",
       "      <th>classification</th>\n",
       "      <th>center_classification_date</th>\n",
       "      <th>recall_initiation_date</th>\n",
       "      <th>city</th>\n",
       "      <th>distribution_pattern</th>\n",
       "      <th>state</th>\n",
       "      <th>classification_duration</th>\n",
       "      <th>country</th>\n",
       "      <th>distribution_scope</th>\n",
       "    </tr>\n",
       "  </thead>\n",
       "  <tbody>\n",
       "    <tr>\n",
       "      <th>0</th>\n",
       "      <td>Class II</td>\n",
       "      <td>2012-08-28</td>\n",
       "      <td>2012-08-15</td>\n",
       "      <td>Fall River</td>\n",
       "      <td>Massachusetts, Maryland, New Jersey, New York,...</td>\n",
       "      <td>Massachusetts</td>\n",
       "      <td>13</td>\n",
       "      <td>United States</td>\n",
       "      <td>International</td>\n",
       "    </tr>\n",
       "    <tr>\n",
       "      <th>4</th>\n",
       "      <td>Class III</td>\n",
       "      <td>2021-07-20</td>\n",
       "      <td>2021-07-09</td>\n",
       "      <td>New York</td>\n",
       "      <td>IN, TN, WI, CO, AZ</td>\n",
       "      <td>New York</td>\n",
       "      <td>11</td>\n",
       "      <td>United States</td>\n",
       "      <td>Nationwide</td>\n",
       "    </tr>\n",
       "    <tr>\n",
       "      <th>5</th>\n",
       "      <td>Class I</td>\n",
       "      <td>2021-09-21</td>\n",
       "      <td>2021-08-30</td>\n",
       "      <td>Astoria</td>\n",
       "      <td>New York, Maryland, Virginia, Pennsylvania, Co...</td>\n",
       "      <td>New York</td>\n",
       "      <td>22</td>\n",
       "      <td>United States</td>\n",
       "      <td>Nationwide</td>\n",
       "    </tr>\n",
       "    <tr>\n",
       "      <th>6</th>\n",
       "      <td>Class II</td>\n",
       "      <td>2019-05-13</td>\n",
       "      <td>2019-04-15</td>\n",
       "      <td>Brooklyn</td>\n",
       "      <td>Distributed to 16 retailers in the Brooklyn &amp; ...</td>\n",
       "      <td>New York</td>\n",
       "      <td>28</td>\n",
       "      <td>United States</td>\n",
       "      <td>Nationwide</td>\n",
       "    </tr>\n",
       "    <tr>\n",
       "      <th>7</th>\n",
       "      <td>Class I</td>\n",
       "      <td>2013-11-01</td>\n",
       "      <td>2013-09-25</td>\n",
       "      <td>Pittsburgh</td>\n",
       "      <td>MD, OH, PA, WV</td>\n",
       "      <td>Pennsylvania</td>\n",
       "      <td>37</td>\n",
       "      <td>United States</td>\n",
       "      <td>Nationwide</td>\n",
       "    </tr>\n",
       "  </tbody>\n",
       "</table>\n",
       "</div>"
      ],
      "text/plain": [
       "  classification center_classification_date recall_initiation_date  \\\n",
       "0       Class II                 2012-08-28             2012-08-15   \n",
       "4      Class III                 2021-07-20             2021-07-09   \n",
       "5        Class I                 2021-09-21             2021-08-30   \n",
       "6       Class II                 2019-05-13             2019-04-15   \n",
       "7        Class I                 2013-11-01             2013-09-25   \n",
       "\n",
       "         city                               distribution_pattern  \\\n",
       "0  Fall River  Massachusetts, Maryland, New Jersey, New York,...   \n",
       "4    New York                                 IN, TN, WI, CO, AZ   \n",
       "5     Astoria  New York, Maryland, Virginia, Pennsylvania, Co...   \n",
       "6    Brooklyn  Distributed to 16 retailers in the Brooklyn & ...   \n",
       "7  Pittsburgh                                     MD, OH, PA, WV   \n",
       "\n",
       "           state  classification_duration        country distribution_scope  \n",
       "0  Massachusetts                       13  United States      International  \n",
       "4       New York                       11  United States         Nationwide  \n",
       "5       New York                       22  United States         Nationwide  \n",
       "6       New York                       28  United States         Nationwide  \n",
       "7   Pennsylvania                       37  United States         Nationwide  "
      ]
     },
     "metadata": {},
     "output_type": "display_data"
    }
   ],
   "source": [
    "display(data.head())\n"
   ]
  },
  {
   "cell_type": "markdown",
   "metadata": {},
   "source": [
    "Throughout this section, we removed all missing values, duplicate records, and columns not relevant to our project. Separately, we either formatted existing columns or created new columns that we'll need going forward. Our dataset is now in a state that is much more suitable for analysis."
   ]
  },
  {
   "cell_type": "markdown",
   "metadata": {},
   "source": [
    "# Data Analysis & Results"
   ]
  },
  {
   "cell_type": "markdown",
   "metadata": {},
   "source": [
    "### Recall and Classification Events Through the Years\n",
    "\n",
    "We need to get a rough estimate of what trends exist across the timespan covered by our dataset. Let's go ahead and look at the total number of recall and classification events plotted against time."
   ]
  },
  {
   "cell_type": "code",
   "execution_count": 116,
   "metadata": {},
   "outputs": [
    {
     "data": {
      "image/png": "[encoded data removed]",
      "text/plain": [
       "<Figure size 864x432 with 2 Axes>"
      ]
     },
     "metadata": {},
     "output_type": "display_data"
    }
   ],
   "source": [
    "# Add a columm dedicated to years to look at breakdown on a per year basis.\n",
    "data['year_classification'] = pd.DatetimeIndex(\n",
    "    data['center_classification_date']).year\n",
    "data['year_recall_initiation'] = pd.DatetimeIndex(\n",
    "    data['recall_initiation_date']).year\n",
    "\n",
    "# Turn the value counts series into something useable with columns names.\n",
    "# classification events\n",
    "raw_year_classification_count = pd.DataFrame(\n",
    "    data.value_counts(subset='year_classification')).reset_index()\n",
    "raw_year_classification_count.rename(\n",
    "    columns={0: 'num of classification events'},\n",
    "    inplace=True\n",
    "    )\n",
    "\n",
    "# recall events\n",
    "raw_year_recall_iniation_count = pd.DataFrame(\n",
    "    data.value_counts(subset='year_recall_initiation')).reset_index()\n",
    "raw_year_recall_iniation_count.rename(\n",
    "    columns={0: 'num of recall initiation events'},\n",
    "    inplace=True\n",
    "    )\n",
    "\n",
    "# Start plotting and tweaking configs.\n",
    "fig, (ax1, ax2) = plt.subplots(ncols=2, sharey=True)\n",
    "\n",
    "sns.lineplot(x='year_classification',\n",
    "             y='num of classification events',\n",
    "             data=raw_year_classification_count,\n",
    "             ax=ax1,\n",
    "             color='purple'\n",
    "             )\n",
    "sns.lineplot(x='year_recall_initiation',\n",
    "             y='num of recall initiation events',\n",
    "             data=raw_year_recall_iniation_count,\n",
    "             ax=ax2,\n",
    "             color='orange'\n",
    "             )\n",
    "\n",
    "ax1.set_title('Classification Events')\n",
    "ax2.set_title('Recall Initiation Events')\n",
    "\n",
    "ax1.set_xlabel('Year')\n",
    "ax2.set_xlabel('Year')\n",
    "\n",
    "ax1.set_ylabel('Number of Events')\n",
    "ax2.set_ylabel('Number of Events')\n",
    "\n",
    "plt.rcParams['figure.figsize'] = (12, 6)\n",
    "plt.tight_layout()\n",
    "plt.show()\n"
   ]
  },
  {
   "cell_type": "markdown",
   "metadata": {},
   "source": [
    "Looking at these plots side by side, it's worth pointing out the recall initiations would come before an actual classification event; a recall event needs to be identified before it can be classified. We see that recall initiation events span further back than the first recorded classification event. 2012 is likely the first year in which the FDA made this information public, and classification events that occurred during 2010 or maybe even 2011 subsequently had recalls that were initiated in years prior. If classification events from years before 2012 were included, then some of them would also have recall initiation events that span back further back into previous years. Continuing, we see a peak in total events during 2016, but then a downward trend and then a complete flatline into 2020."
   ]
  },
  {
   "cell_type": "markdown",
   "metadata": {},
   "source": [
    "Let's get a better understanding of what's going on within our three classification levels during this same period of time."
   ]
  },
  {
   "cell_type": "code",
   "execution_count": 99,
   "metadata": {},
   "outputs": [
    {
     "data": {
      "image/png": "[encoded data removed]",
      "text/plain": [
       "<Figure size 864x432 with 1 Axes>"
      ]
     },
     "metadata": {
      "needs_background": "light"
     },
     "output_type": "display_data"
    }
   ],
   "source": [
    "year_classification_count = pd.DataFrame(data.value_counts(\n",
    "    subset=['year_classification', 'classification']))\n",
    "\n",
    "# Turn the value counts series into something useable with columns names.\n",
    "year_classification_count.reset_index(inplace=True)\n",
    "year_classification_count.rename(columns={0: 'num of classification events'},\n",
    "                                 inplace=True)\n",
    "\n",
    "# Start plotting and tweaking configs.\n",
    "ax = sns.lineplot(x='year_classification',\n",
    "                  y='num of classification events',\n",
    "                  hue='classification',\n",
    "                  data=year_classification_count,\n",
    "                  palette='magma')\n",
    "\n",
    "ax.set_xlabel('Year')\n",
    "ax.set_ylabel('Number of Classification Events')\n",
    "\n",
    "plt.rcParams['figure.figsize'] = (12, 6)\n",
    "plt.tight_layout()\n",
    "plt.show()\n"
   ]
  },
  {
   "cell_type": "markdown",
   "metadata": {},
   "source": [
    "So while we still see a dropoff in total events, this plot gives us considerably more insight into underlying trends. First and foremost, `Class III` events (the least severe of the three) see a trend that mostly ebbs and flows, just barely tailing off through 2020.\n",
    "\n",
    "Right around 2014 we see `Class I` overtake `Class II` as the most common classification event and peaks during 2016, which is the peak year of all total classification events. Given that this is the most severe classification level, we would not expect it to be the most common nor would we want it to given its implications of serious health risks for consumers. One could imagine there might be a push on the part of the FDA to put pressure on food factories to reverse this trend (i.e. via the threat of more severe punishment). It follows that in the two years between 2016 and 2018, rates of `Class I` dropped at significantly greater rates in comparison to the increase seen over the four previous years between 2012 and 2016.\n",
    "\n",
    "`Class II` swiftly overtakes `Class I` as the most common classification level well under only a year after 2016. It sees a much more gradual decline leading into 2020, but interestingly and without explanation sees an uptick through that year where the other two trend downward."
   ]
  },
  {
   "cell_type": "markdown",
   "metadata": {},
   "source": [
    "2020 was quite the anomaly with total incident and classification events being significantly lower in comparison to years past. Let's look at our plots on a per month basis specifically during 2020 to try and get a better idea of what went on."
   ]
  },
  {
   "cell_type": "code",
   "execution_count": 100,
   "metadata": {},
   "outputs": [
    {
     "data": {
      "image/png": "[encoded data removed]",
      "text/plain": [
       "<Figure size 864x432 with 2 Axes>"
      ]
     },
     "metadata": {
      "needs_background": "light"
     },
     "output_type": "display_data"
    }
   ],
   "source": [
    "# Grab the subset of data belonging to 2020.\n",
    "data_for_2020 = (data[(data['year_classification'] == 2020)\n",
    "                      & (data['year_recall_initiation'] == 2020)]\n",
    "                 .copy(deep=True))\n",
    "\n",
    "# Our breakdown should be on a per month basis, so let's add a new\n",
    "# 'month' columns to this subset.\n",
    "data_for_2020.loc[:, 'month_classification'] = (pd.DatetimeIndex(\n",
    "    data_for_2020['center_classification_date'])).strftime('%B')\n",
    "data_for_2020.loc[:, 'month_recall_initiation'] = (pd.DatetimeIndex(\n",
    "    data_for_2020['recall_initiation_date'])).strftime('%B')\n",
    "\n",
    "# Turn the value counts series into something useable with columns names.\n",
    "# classification events\n",
    "raw_month_classification_count = pd.DataFrame(\n",
    "    data_for_2020.value_counts(subset='month_classification')).reset_index()\n",
    "raw_month_classification_count = raw_month_classification_count.rename(\n",
    "    columns={0: 'num of classification events'})\n",
    "\n",
    "# recall events\n",
    "raw_month_recall_iniation_count = pd.DataFrame(\n",
    "    data_for_2020.value_counts(subset='month_recall_initiation')).reset_index()\n",
    "raw_month_recall_iniation_count = raw_month_recall_iniation_count.rename(\n",
    "    columns={0: 'num of recall initiation events'})\n",
    "\n",
    "# We need to force the sort order based on the months of the year.\n",
    "# By default, this will not happen and our plot will be out of order.\n",
    "MONTHS_OF_THE_YEAR = ['January', 'February', 'March',\n",
    "                      'April', 'May', 'June',\n",
    "                      'July', 'August', 'September',\n",
    "                      'October', 'November', 'December'\n",
    "                      ]\n",
    "\n",
    "# classification events\n",
    "raw_month_classification_count['month_classification'] = pd.Categorical(\n",
    "    raw_month_classification_count['month_classification'],\n",
    "    categories=MONTHS_OF_THE_YEAR,\n",
    "    ordered=True)\n",
    "raw_month_classification_count['month_classification'] \\\n",
    "    = raw_month_classification_count['month_classification'].sort_values()\n",
    "\n",
    "# recall events\n",
    "raw_month_recall_iniation_count['month_recall_initiation'] \\\n",
    "    = pd.Categorical(\n",
    "        raw_month_recall_iniation_count['month_recall_initiation'],\n",
    "        categories=MONTHS_OF_THE_YEAR,\n",
    "        ordered=True)\n",
    "raw_month_recall_iniation_count['month_recall_initiation'] = \\\n",
    "    (raw_month_recall_iniation_count['month_recall_initiation'].sort_values())\n",
    "\n",
    "# Start plotting and tweaking configs.\n",
    "fig2, (ax1, ax2) = plt.subplots(ncols=2, sharey=True)\n",
    "\n",
    "sns.lineplot(x='month_classification',\n",
    "             y='num of classification events',\n",
    "             data=raw_month_classification_count,\n",
    "             ax=ax1,\n",
    "             color='purple')\n",
    "sns.lineplot(x='month_recall_initiation',\n",
    "             y='num of recall initiation events',\n",
    "             data=raw_month_recall_iniation_count,\n",
    "             ax=ax2,\n",
    "             color='orange'\n",
    "             )\n",
    "\n",
    "ax1.set_title('Classification Events')\n",
    "ax2.set_title('Recall Initiation Events')\n",
    "\n",
    "ax1.set_xlabel('Month (2020)')\n",
    "ax2.set_xlabel('Month (2020)')\n",
    "\n",
    "ax1.set_ylabel('Number of Events')\n",
    "ax2.set_ylabel('Number of Events')\n",
    "\n",
    "ax1.tick_params(axis='x', rotation=90)\n",
    "ax2.tick_params(axis='x', rotation=90)\n",
    "\n",
    "plt.rcParams['figure.figsize'] = (12, 6)\n",
    "plt.tight_layout()\n",
    "plt.show()\n"
   ]
  },
  {
   "cell_type": "markdown",
   "metadata": {},
   "source": [
    "Taking into account the time in between a recall initiation event and a classification event, we can effectively ignore both head and tail end differences between the two plots, as these pairs would be split at the end and beginning of the years (i.e. a recall initiation occurring in the final week of December would likely not see an associated classification event until January of the next year.) Both plots follow very similar trends.\n",
    "\n",
    "With that being said, the plot on the right shows a stretch of five months between March and July where the number of new recall events is relatively low. As we move closer towards and into July, we see incident rates steadily increasing. The spike that comes in August, however, is incredibly interesting! What could be the cause for such a dramatic change? Might these shifts in rates across specific months align with the COVID-19 lockdown during this year? Might we take head of this when drawing up final conclusions about relationships?"
   ]
  },
  {
   "cell_type": "markdown",
   "metadata": {},
   "source": [
    "### Breakdown of Classification Types\n",
    "\n",
    "Let's also look at the breakdown of classification type for all incidents."
   ]
  },
  {
   "cell_type": "code",
   "execution_count": 101,
   "metadata": {
    "scrolled": false
   },
   "outputs": [
    {
     "data": {
      "image/png": "[encoded data removed]",
      "text/plain": [
       "<Figure size 864x432 with 1 Axes>"
      ]
     },
     "metadata": {},
     "output_type": "display_data"
    }
   ],
   "source": [
    "type_count = data['classification'].value_counts()\n",
    "chart = type_count.plot(kind='pie', autopct='%1.1f%%')\n",
    "chart.set_title('Distribution of Classification Type')\n",
    "\n",
    "plt.show()\n"
   ]
  },
  {
   "cell_type": "markdown",
   "metadata": {},
   "source": [
    "Looking at this chart, we see that we have far fewer Class III incidents in comparison to both Class I and Class II incidents. Given this smaller sample size, this group is subject to inherently more variance. We will keep note of this fact should we calculate means."
   ]
  },
  {
   "cell_type": "markdown",
   "metadata": {},
   "source": [
    "### Classification Duration Distributions Through Time\n",
    "\n",
    "To further examine the pattern of time needed by the FDA to classify the relative hazard level a recall incident poses, this section will present histograms that give greater insight into distribution trends across different lengths of time. "
   ]
  },
  {
   "cell_type": "code",
   "execution_count": 102,
   "metadata": {},
   "outputs": [],
   "source": [
    "DAYS_IN_YEAR = 365\n",
    "\n",
    "# Generate new dataframes which are seperated by year.\n",
    "less_than_year = data[data['classification_duration'] <= DAYS_IN_YEAR]\n",
    "greater_than_year = data[data['classification_duration'] > DAYS_IN_YEAR]\n",
    "less_than_six_months = \\\n",
    "    data[data['classification_duration'] <= DAYS_IN_YEAR / 2]\n"
   ]
  },
  {
   "cell_type": "markdown",
   "metadata": {},
   "source": [
    "We have generated three new DataFrames above. Each DataFrame respectively either holds a data slice of records with a classification duration that spans less than one year, more than one year, or less than half of a year."
   ]
  },
  {
   "cell_type": "code",
   "execution_count": 103,
   "metadata": {
    "scrolled": false
   },
   "outputs": [
    {
     "data": {
      "image/png": "[encoded data removed]",
      "text/plain": [
       "<Figure size 1152x864 with 4 Axes>"
      ]
     },
     "metadata": {
      "needs_background": "light"
     },
     "output_type": "display_data"
    }
   ],
   "source": [
    "# Setup four subplots.\n",
    "freq = plt.figure(figsize=(16, 12))\n",
    "ax1 = freq.add_subplot(221)\n",
    "ax2 = freq.add_subplot(222)\n",
    "ax3 = freq.add_subplot(223)\n",
    "ax4 = freq.add_subplot(224)\n",
    "\n",
    "# Plot 1 is of all durations.\n",
    "ax1.hist(x='classification_duration',\n",
    "         data=data,\n",
    "         color='red',\n",
    "         bins=50\n",
    "         )\n",
    "ax1.set_xlabel('Classification Duration (Days)')\n",
    "ax1.set_ylabel('Number of Incidents')\n",
    "ax1.set_title('Distribution of Classification Duration',\n",
    "              weight='bold',\n",
    "              fontsize=18\n",
    "              )\n",
    "\n",
    "# Plot 2 is of durations <= 1 year.\n",
    "ax2.hist(x='classification_duration',\n",
    "         data=less_than_year,\n",
    "         color='blue',\n",
    "         bins=120\n",
    "         )\n",
    "ax2.set_xlabel('Classification Duration (Days)')\n",
    "ax2.set_ylabel('Number of Incidents')\n",
    "ax2.set_title('Distribution of Classification Duration Less Than One Year',\n",
    "              weight='bold',\n",
    "              fontsize=18\n",
    "              )\n",
    "\n",
    "# Plot 3 is of durations > 1 year.\n",
    "ax3.hist(x='classification_duration',\n",
    "         data=greater_than_year,\n",
    "         color='pink',\n",
    "         bins=30\n",
    "         )\n",
    "ax3.set_xlabel('Classification Duration (Days)')\n",
    "ax3.set_ylabel('Number of Incidents')\n",
    "ax3.set_title('Distribution of Classification Duration Longer Than One Year',\n",
    "              weight='bold',\n",
    "              fontsize=18\n",
    "              )\n",
    "\n",
    "# Plot 4 is of durations <= 6 months.\n",
    "ax4.hist(x='classification_duration',\n",
    "         data=less_than_six_months,\n",
    "         color='yellow',\n",
    "         bins=60\n",
    "         )\n",
    "ax4.set_xlabel('Classification Duration (Days)')\n",
    "ax4.set_ylabel('Number of Incidents')\n",
    "ax4.set_title('Distribution of Classification Duration Less Than Six Months',\n",
    "              weight='bold',\n",
    "              fontsize=18\n",
    "              )\n",
    "\n",
    "plt.tight_layout()\n",
    "plt.show()\n"
   ]
  },
  {
   "cell_type": "markdown",
   "metadata": {},
   "source": [
    "The first histogram shows that the distribution of the `classification_duration` column is right-skewed, with most of the datapoints concentrating on the bin of fewer than 250 days. The second histogram effectively zooms in by only including incidents that took less than one year to be classified. Here we can still see a right-skewness. Continuing, we can key in on the tail of distribution by only incidents with classfication durations that span longer than one year. Moving forward, the fourth histogram includes only incidents that took less than six months to classify. This plot shows a similar distribution to the that includes durations less than one year.\n",
    "\n",
    "The biggest takeaway is that most of the incidents have classification durations in the range 0 to 50 total days, with a peak at around 25 days. In summary, a significant amount of incidents get classified in roughly a month, but of course, there are still plenty that take much longer than this."
   ]
  },
  {
   "cell_type": "markdown",
   "metadata": {},
   "source": [
    "### Distribution Scope vs. Classification Duration\n",
    "\n",
    "We suspect that one of the contributing factors to how long the FDA takes to assign a classification level is the scope of the original product distribution. Intuitively, it takes a much greater effort to track down and validate products that ended up on the other side of the globe versus ones that never left the country. This section investigates whether distribution scope significantly affects classification duration."
   ]
  },
  {
   "cell_type": "markdown",
   "metadata": {},
   "source": [
    "We will first compare the classification duration of regional distributions that span internationally against ones that domestically span nationwide."
   ]
  },
  {
   "cell_type": "code",
   "execution_count": 104,
   "metadata": {},
   "outputs": [
    {
     "data": {
      "text/plain": [
       "count     932.000000\n",
       "mean       59.288627\n",
       "std       114.086816\n",
       "min         4.000000\n",
       "25%        21.000000\n",
       "50%        32.000000\n",
       "75%        53.000000\n",
       "max      1487.000000\n",
       "Name: classification_duration, dtype: float64"
      ]
     },
     "metadata": {},
     "output_type": "display_data"
    }
   ],
   "source": [
    "display(data[data['distribution_scope']\n",
    "             == 'International']['classification_duration'].describe()\n",
    "        )\n"
   ]
  },
  {
   "cell_type": "code",
   "execution_count": 105,
   "metadata": {},
   "outputs": [
    {
     "data": {
      "text/plain": [
       "count    4410.000000\n",
       "mean       53.107029\n",
       "std       103.978069\n",
       "min         0.000000\n",
       "25%        20.000000\n",
       "50%        30.000000\n",
       "75%        48.000000\n",
       "max      2264.000000\n",
       "Name: classification_duration, dtype: float64"
      ]
     },
     "metadata": {},
     "output_type": "display_data"
    }
   ],
   "source": [
    "display(data[data['distribution_scope']\n",
    "             == 'Nationwide']['classification_duration'].describe()\n",
    "        )\n"
   ]
  },
  {
   "cell_type": "markdown",
   "metadata": {},
   "source": [
    "At first glance, these general statistics show that both could belong in the same group. Visualizing them using histograms may help tell us if this is the case."
   ]
  },
  {
   "cell_type": "code",
   "execution_count": 106,
   "metadata": {},
   "outputs": [
    {
     "data": {
      "image/png": "[encoded data removed]",
      "text/plain": [
       "<Figure size 864x432 with 1 Axes>"
      ]
     },
     "metadata": {
      "needs_background": "light"
     },
     "output_type": "display_data"
    }
   ],
   "source": [
    "international_duration = data[data['distribution_scope'] \n",
    "                              == 'International']['classification_duration']\n",
    "nationwide_duration = data[data['distribution_scope']\n",
    "                           == 'Nationwide']['classification_duration']\n",
    "bins = np.linspace(0, 200, 20)\n",
    "\n",
    "plt.hist(international_duration, alpha=0.5, label='International', bins=bins)\n",
    "plt.hist(nationwide_duration, alpha=0.5, label='Nationwide', bins=bins)\n",
    "plt.legend(loc='upper right')\n",
    "plt.xlabel('Classification Duration')\n",
    "plt.ylabel('Frequency')\n",
    "plt.show()\n"
   ]
  },
  {
   "cell_type": "markdown",
   "metadata": {},
   "source": [
    "At first glance, the shapes look similar. But because there is a significant difference between sample sizes, we cannot determine whether the distributions are the same from the histogram alone. To properly verify this, we need to conduct an independent samples t-test. We first need to ensure our data meets basic assumptions before using any parametric statistical test."
   ]
  },
  {
   "cell_type": "markdown",
   "metadata": {},
   "source": [
    "The sample size for incidents that span only nationwide is 4,410 while the sample size for incidents that stretch internationally is 932. We feel these numbers show we have enough data to ensure a smooth distribution curve. Let us continue."
   ]
  },
  {
   "cell_type": "markdown",
   "metadata": {},
   "source": [
    "Let us first define a function to more easily plot mean distributions via random sampling. We will use this to verify whether or not the distributions are normal."
   ]
  },
  {
   "cell_type": "code",
   "execution_count": 107,
   "metadata": {},
   "outputs": [],
   "source": [
    "def plot_means(distribution, n, color):\n",
    "    \"\"\"Plot a meaning distribution with a histogram using randomly sampling.\n",
    "\n",
    "    Keyword arguments:\n",
    "    distribution -- the distribution to plot\n",
    "    n -- number of attempts\n",
    "    color -- color of this plot\n",
    "    \"\"\"\n",
    "    averages = []\n",
    "    for i in np.arange(n):\n",
    "        random_sample = distribution.sample(1000, replace=True)\n",
    "        new_average = np.mean(random_sample)\n",
    "        averages.append(new_average)\n",
    "\n",
    "    averages = np.array(averages)\n",
    "\n",
    "    plt.hist(averages, alpha=1.0, label='Averages', bins=30, color=color)\n",
    "    plt.xlabel('Classification Duration Means')\n",
    "    plt.ylabel('Frequency')\n",
    "    plt.show()\n"
   ]
  },
  {
   "cell_type": "code",
   "execution_count": 108,
   "metadata": {
    "scrolled": false
   },
   "outputs": [
    {
     "data": {
      "image/png": "[encoded data removed]",
      "text/plain": [
       "<Figure size 864x432 with 1 Axes>"
      ]
     },
     "metadata": {
      "needs_background": "light"
     },
     "output_type": "display_data"
    }
   ],
   "source": [
    "plot_means(international_duration, 3000, 'red')\n"
   ]
  },
  {
   "cell_type": "code",
   "execution_count": 109,
   "metadata": {
    "scrolled": false
   },
   "outputs": [
    {
     "data": {
      "image/png": "[encoded data removed]",
      "text/plain": [
       "<Figure size 864x432 with 1 Axes>"
      ]
     },
     "metadata": {
      "needs_background": "light"
     },
     "output_type": "display_data"
    }
   ],
   "source": [
    "plot_means(nationwide_duration, 3000, 'blue')\n"
   ]
  },
  {
   "cell_type": "markdown",
   "metadata": {},
   "source": [
    "Because the distributions of the mean of both appear to be normal, we can proceed with the t-test."
   ]
  },
  {
   "cell_type": "code",
   "execution_count": 110,
   "metadata": {},
   "outputs": [
    {
     "name": "stdout",
     "output_type": "stream",
     "text": [
      "t-value:  1.6205008604011195 \n",
      "p-value:  0.10518377362194532\n"
     ]
    }
   ],
   "source": [
    "t_val, p_val = ttest_ind(a=international_duration, b=nationwide_duration)\n",
    "\n",
    "print('t-value: ', t_val, '\\np-value: ', p_val)\n"
   ]
  },
  {
   "cell_type": "markdown",
   "metadata": {},
   "source": [
    "We see a p-value here that is approximately 0.1, which is not very significant. Thus, we fail to reject the null hypothesis, and the distribution scope does not affect the classification duration."
   ]
  },
  {
   "cell_type": "markdown",
   "metadata": {},
   "source": [
    "### Classification Duration vs. Classification Level\n",
    "\n",
    "Per our research question, we hypothesized that it takes longer to classify health-hazardous incidents (`Class I` recall events) than to classify less harmful  (`Class II` and `Class III` recall events). We will examine this by investigating multiple parameters of `classification_duration` and `classification`."
   ]
  },
  {
   "cell_type": "markdown",
   "metadata": {},
   "source": [
    "We will first compute the mean and variance of `classification_duration` along with the total count of recall events in our dataset."
   ]
  },
  {
   "cell_type": "code",
   "execution_count": 111,
   "metadata": {
    "scrolled": true
   },
   "outputs": [
    {
     "data": {
      "text/html": [
       "<div>\n",
       "<style scoped>\n",
       "    .dataframe tbody tr th:only-of-type {\n",
       "        vertical-align: middle;\n",
       "    }\n",
       "\n",
       "    .dataframe tbody tr th {\n",
       "        vertical-align: top;\n",
       "    }\n",
       "\n",
       "    .dataframe thead th {\n",
       "        text-align: right;\n",
       "    }\n",
       "</style>\n",
       "<table border=\"1\" class=\"dataframe\">\n",
       "  <thead>\n",
       "    <tr style=\"text-align: right;\">\n",
       "      <th>classification</th>\n",
       "      <th>Class III</th>\n",
       "      <th>Class II</th>\n",
       "      <th>Class I</th>\n",
       "    </tr>\n",
       "  </thead>\n",
       "  <tbody>\n",
       "    <tr>\n",
       "      <th>Average Duration</th>\n",
       "      <td>58.52</td>\n",
       "      <td>51.06</td>\n",
       "      <td>58.73</td>\n",
       "    </tr>\n",
       "    <tr>\n",
       "      <th>Variance</th>\n",
       "      <td>8396.05</td>\n",
       "      <td>10703.36</td>\n",
       "      <td>14979.66</td>\n",
       "    </tr>\n",
       "    <tr>\n",
       "      <th>Count</th>\n",
       "      <td>444.00</td>\n",
       "      <td>2721.00</td>\n",
       "      <td>2281.00</td>\n",
       "    </tr>\n",
       "  </tbody>\n",
       "</table>\n",
       "</div>"
      ],
      "text/plain": [
       "classification    Class III  Class II   Class I\n",
       "Average Duration      58.52     51.06     58.73\n",
       "Variance            8396.05  10703.36  14979.66\n",
       "Count                444.00   2721.00   2281.00"
      ]
     },
     "metadata": {},
     "output_type": "display_data"
    }
   ],
   "source": [
    "# Generate basic summary statistics for classification_duration.\n",
    "stat_duration_per_class = data.groupby('classification') \\\n",
    "    .aggregate(temp1=('classification_duration', 'mean'),\n",
    "               temp2=('classification_duration', 'var'),\n",
    "               temp3=('classification_duration', 'count')\n",
    "               )\n",
    "\n",
    "# We'll use this mapping to rename our columns.\n",
    "COLUMN_MAP = dict(zip(['temp1', 'temp2', 'temp3'],\n",
    "                      ['Average Duration', 'Variance', 'Count']\n",
    "                      )\n",
    "                  )\n",
    "stat_duration_per_class = stat_duration_per_class.rename(columns=COLUMN_MAP)\n",
    "\n",
    "# Round off our values to the nearest thousandth.\n",
    "stat_duration_per_class = stat_duration_per_class \\\n",
    "    .transform(lambda x: round(x, 2))\n",
    "\n",
    "display(stat_duration_per_class.T)\n"
   ]
  },
  {
   "cell_type": "markdown",
   "metadata": {},
   "source": [
    "Before we make a judgement on these summary statistics, let's visualize things by sticking `classification` and `Average duration` on a horizontal bar plot for easier readability."
   ]
  },
  {
   "cell_type": "code",
   "execution_count": 112,
   "metadata": {
    "scrolled": false
   },
   "outputs": [],
   "source": [
    "df = stat_duration_per_class.reset_index()\n",
    "\n",
    "# Map the classification groups to individual colors for plotting purposes.\n",
    "df['color'] = ['red', 'blue', 'green']\n",
    "\n",
    "selection = alt.selection_single()\n",
    "chart = alt.Chart(df,\n",
    "                  width=600,\n",
    "                  height=300,\n",
    "                  title='Average Number of Days Classfication Took'\n",
    "                  )\n",
    "\n",
    "# Load the chart with Atair's x, y, and tooltip objects and the color mapping.\n",
    "chart = chart.encode(x=alt.X('Average Duration',\n",
    "                             type='quantitative',\n",
    "                             title='Average Duration (Days)'\n",
    "                             ),\n",
    "                     y=alt.Y('classification',\n",
    "                             type='ordinal',\n",
    "                             title='classification',\n",
    "                             ),\n",
    "                     color=alt.Color('color', legend=None),\n",
    "                     tooltip=[alt.Tooltip('Average Duration:Q', title='Average duration of(days)')]\n",
    "                     ).add_selection(selection)\n",
    "\n",
    "# # Render bars on our plot.\n",
    "chart = chart.mark_bar(height=40)\n",
    "\n",
    "# # Handle additional title and label style tweaking.\n",
    "chart = chart.configure_title(fontSize=20)\n",
    "chart = chart.configure_axisY(labelFontWeight='bold',\n",
    "                              titleFontSize=16,\n",
    "                              labelFontSize=12\n",
    "                              )\n",
    "chart = chart.configure_axisX(titleFontSize=16, labelFontSize=12)\n"
   ]
  },
  {
   "cell_type": "markdown",
   "metadata": {},
   "source": [
    "<img src='image/visualization.png'>"
   ]
  },
  {
   "cell_type": "markdown",
   "metadata": {},
   "source": [
    "Between summary statistics in the previous cell and the bar chart shown here, we see that `Class II` incidents have the lowest `classification_duration` on average. Continuing, it's worth noting the difference between average `classification_duration` for `Class I` and `Class II` incidents is not significant. However, there does exist a considerable amount of variance in `classification_duration` across all groups. There also exists a large discrepancy in the total number of observations between `Class I` and `Class III` incidents. This imbalance in number of observations is something to be mindful of when making conclusions about our analysis going forward."
   ]
  },
  {
   "cell_type": "markdown",
   "metadata": {},
   "source": [
    "We should also take a look at the distribution of `classification_duration` per classification group. `classification` is an ordinal attribute with `Class I` being the largest while `classification_duration` is on a continuous scale. Given this information, a box pot is most suitable for visualizing the distribution across groups."
   ]
  },
  {
   "cell_type": "code",
   "execution_count": 113,
   "metadata": {
    "scrolled": false
   },
   "outputs": [
    {
     "data": {
      "image/png": "[encoded data removed]",
      "text/plain": [
       "<Figure size 864x576 with 1 Axes>"
      ]
     },
     "metadata": {},
     "output_type": "display_data"
    }
   ],
   "source": [
    "_ = sns.set(\n",
    "    context='notebook',\n",
    "    style='white',\n",
    "    palette='pastel'\n",
    ")\n",
    "\n",
    "fig = plt.figure(figsize=(12, 8))\n",
    "ax = fig.gca()\n",
    "\n",
    "_ = sns.boxplot(x='classification',\n",
    "                y='classification_duration',\n",
    "                data=data,\n",
    "                palette='viridis'\n",
    "                )\n",
    "\n",
    "_ = ax.set_xlabel('Health Hazard Classification Level', fontdict={'size': 15})\n",
    "_ = ax.set_ylabel('Days it Took to Classify', fontdict={'size': 15})\n",
    "_ = ax.set_title('`classification_duration` distribution per class',\n",
    "                 fontdict={'size': 20, 'weight': 'bold'})\n",
    "_ = ax.set_yticks(range(0, 2500, 500))\n",
    "_ = ax.set_yticklabels(['{:,}'.format(x) for x in range(0, 2500, 500)])\n",
    "\n",
    "plt.tight_layout()\n",
    "plt.show()\n"
   ]
  },
  {
   "cell_type": "markdown",
   "metadata": {},
   "source": [
    "At first glance, what's immediately noticeable are outliers in the thousands of days for both `Class II` and `Class I` incidents, highlighting a strong right-skewness within their respective distributions, with `Class II` being the most heavily skewed between the two. On further inspection of inner quartile regions across these three groups, we see relatively similar distributions between `Class III` and `Class I` incidents. Given our initial hypothesis, we would have instead expected to see a significant difference of `Class I` in comparison to the other two groups for this measure."
   ]
  },
  {
   "cell_type": "markdown",
   "metadata": {},
   "source": [
    "When looking at `classification_duration` in totality, we are not seeing anything that would support our hypothesis that more severe incidents take longer to classify than less severe incidents. The most and least severe incident types take nearly the same amount of time to be classified on average."
   ]
  },
  {
   "cell_type": "markdown",
   "metadata": {},
   "source": [
    "------"
   ]
  },
  {
   "cell_type": "markdown",
   "metadata": {},
   "source": [
    "# Validating Our Hypothesis Through A/B Testing\n",
    "\n",
    " Does the level of event classification (`classification`) affect the duration it takes for classification (`classification_duration`)? To answer that, we will perform A/B Testing using average classification duration as a testing metric. For simplicity, We will only compare recall instances of `class I` and `class III` for testing. \n",
    " \n",
    "> $H_{\\theta}$: Time it took to classify `Class I` recall instances is similar to time it took to classify `Class III`. \n",
    " \n",
    "> $H_{A}$: It takes longer to classify more hazardous events(`Class I`) than other classes.\n",
    "\n",
    " Our test statistic(t-score) is calculated:\n",
    " \n",
    "\\begin{equation}  t = \\frac{x_{1}-x_{2}}{\\sqrt{((s_{1})^2/n_{1}) + ((s_{2})^2/n_{2})}} \\end{equation} \n",
    "\n",
    "where $x_{1}$ refers to the average classification duration of `Class III`, and $x_{2}$ refers to the average classification duration of `Class I`. We will conduct the testing at a significance level($\\alpha$) of 0.05 **under the assumption that our $H_{\\theta}$ is true**."
   ]
  },
  {
   "cell_type": "code",
   "execution_count": 114,
   "metadata": {},
   "outputs": [
    {
     "data": {
      "text/html": [
       "<div>\n",
       "<style scoped>\n",
       "    .dataframe tbody tr th:only-of-type {\n",
       "        vertical-align: middle;\n",
       "    }\n",
       "\n",
       "    .dataframe tbody tr th {\n",
       "        vertical-align: top;\n",
       "    }\n",
       "\n",
       "    .dataframe thead th {\n",
       "        text-align: right;\n",
       "    }\n",
       "</style>\n",
       "<table border=\"1\" class=\"dataframe\">\n",
       "  <thead>\n",
       "    <tr style=\"text-align: right;\">\n",
       "      <th>classification</th>\n",
       "      <th>Class III</th>\n",
       "      <th>Class II</th>\n",
       "      <th>Class I</th>\n",
       "    </tr>\n",
       "  </thead>\n",
       "  <tbody>\n",
       "    <tr>\n",
       "      <th>Average Duration</th>\n",
       "      <td>58.52</td>\n",
       "      <td>51.06</td>\n",
       "      <td>58.73</td>\n",
       "    </tr>\n",
       "    <tr>\n",
       "      <th>Variance</th>\n",
       "      <td>8396.05</td>\n",
       "      <td>10703.36</td>\n",
       "      <td>14979.66</td>\n",
       "    </tr>\n",
       "    <tr>\n",
       "      <th>Count</th>\n",
       "      <td>444.00</td>\n",
       "      <td>2721.00</td>\n",
       "      <td>2281.00</td>\n",
       "    </tr>\n",
       "  </tbody>\n",
       "</table>\n",
       "</div>"
      ],
      "text/plain": [
       "classification    Class III  Class II   Class I\n",
       "Average Duration      58.52     51.06     58.73\n",
       "Variance            8396.05  10703.36  14979.66\n",
       "Count                444.00   2721.00   2281.00"
      ]
     },
     "metadata": {},
     "output_type": "display_data"
    }
   ],
   "source": [
    "# We've already calculated all needed statistics earlier\n",
    "\n",
    "df = stat_duration_per_class.T\n",
    "\n",
    "display(df)\n"
   ]
  },
  {
   "cell_type": "markdown",
   "metadata": {},
   "source": [
    "To calculate p-value, we will use `stats.norm.cdf` function imported from `scipy` library. According to the documentation, `stats.norm.cdf(X)` calculates the probability that X will take a value less than or equal to X. But since `stats.norm.cdf(X)` calculates probability density of the left-side of observed value in distribution, our p-value can be computed through $1 - $`stats.norm.cdf(t_score)`."
   ]
  },
  {
   "cell_type": "code",
   "execution_count": 115,
   "metadata": {
    "scrolled": true
   },
   "outputs": [
    {
     "name": "stdout",
     "output_type": "stream",
     "text": [
      "Hypothesis testing conducted at significance level of 0.05  the two extreme classes in our data produced: \n",
      "\n",
      "\n",
      "t-score: -0.041604826468780165\n",
      "p-value: 0.5165931371952768\n"
     ]
    }
   ],
   "source": [
    "class3_avg_duration = df.iloc[0, 0]\n",
    "class1_avg_duration = df.iloc[0, -1]\n",
    "\n",
    "class3_denom = df.iloc[1, 0]/df.iloc[2, 0]\n",
    "class1_denom = df.iloc[1, -1]/df.iloc[2, -1]\n",
    "\n",
    "mean_diff = class3_avg_duration - class1_avg_duration\n",
    "denom = np.sqrt(class3_denom + class1_denom)\n",
    "\n",
    "t_score = mean_diff/denom\n",
    "p_val = 1 - stats.norm.cdf(t_score)\n",
    "\n",
    "print('Hypothesis testing conducted at significance level of 0.05',\n",
    "      ' the two extreme classes in our data produced:', '\\n\\n')\n",
    "print(f't-score: {t_score}\\np-value: {p_val}')\n"
   ]
  },
  {
   "cell_type": "markdown",
   "metadata": {},
   "source": [
    "> Computed p-value is significantly larger than our significance level of $0.05$. According to the test result, our dataset does not have sufficient evidence to reject $H_{\\theta}$ and thus, we fail to reject null hypothesis. Our dataset shows that it takes roughly same amount of time to classify all recall instances regardless of their classification type."
   ]
  },
  {
   "cell_type": "markdown",
   "metadata": {},
   "source": [
    "# Ethics & Privacy"
   ]
  },
  {
   "cell_type": "markdown",
   "metadata": {},
   "source": [
    "The data has been provided by the FDA and is available to the public. Since the data is collected on the process of goods moving from supplier to store, no data on any one individual is collected. All firms from which the product was recalled either voluntarily filed the report themselves or are aware of the publicization of the recall. The outcome of whether or not the hazard level of a recall and the length of time it takes to classify it is related should not cause any ethical concerns. The answer would reveal if the most dangerous food products are recalled quicker than other minor level threats, such as Class II or Class III. This is a representation of how the FDA organizes its recalls, and it would give information on whether or not the system of the FDA could potentially improve in speeding up Class I product recalls. While unlikely to yield any actional information for bad actors looking to take advantage of any holes in this system and identifying best points of attack, we have made the advanced decision to keep our analysis private; our notebooks will only be shared amongst ourselves and the individual(s) who grades our project. Provided we do happen to directly find such critical information, we are obligated to securely pass on our findings to the appropriate government reporting agency.\n",
    "\n",
    "However, even if our analysis is to be private, a concern we have to recognize and potential biases that may affect the project's results. We will perform caution when doing our analysis by not actively searching for favorable results that support our hypothesis. A consequence of this is that the report may show false information that will misrepresent the performance of the FDA. Nevertheless, the potential biases of this project shouldn't come up in this project, as there would be mostly exploratory data analysis."
   ]
  },
  {
   "cell_type": "markdown",
   "metadata": {},
   "source": [
    "# Conclusion & Discussion"
   ]
  },
  {
   "cell_type": "markdown",
   "metadata": {},
   "source": [
    "### Conclusion\n",
    "\n",
    "Through EDA, we found that the majority of recall events from the early 2010s to late 2010s got classified as `Class I` or `Class II`, and only a few were classified as `Class III`. This is one of the main causes of the imbalance in the number of observations with different classification levels in our dataset. We used a pie chart to visualize the imbalance, which showed that half of the entities are `Class II` instances. Subsequent visualization on the distribution of `classification_duration` confirmed that the majority of recall events took less than a year to get classified. We then discovered there is no statistically proven relationship between the `distribution scope` of the recall instance and the `classification duration` of that recall through a t-test. In the end, we compared the average classification duration between different health hazard classifications with horizontal bar charts.\n",
    "\n",
    "Lastly, we conducted A/B testing to validate our belief that `Class I` recall cases take longer to get classified than `Class III` recall cases. Using the difference in average classification duration as a test metric, we computed the cumulative density of the observed difference on normalized distribution or p-value. As a result, the test produced a p-value far larger than our significance level($0.05$), supporting our $H_{\\theta}$ that it takes roughly the same amount of time in classifying all recall events regardless of their health hazard level. Hence, we conducted our result that there does not exist statistically significant proof that establishes a relationship between `classification_duration` and `classification` in our dataset\n",
    " \n",
    "### Limitations\n",
    "\n",
    " Our dataset involved several quality issues at the time we retrieved our dataset from the vendor. While the majority of the attributes were clearly explained by provided documentation, some attributes were missing descriptions that explain what the values under the attributes represented<font color=blue>$^{1}$</font>. Taking that into account, the majority of values were left out without any context explaining why they were missing, so we had to exclude several observations from our dataset before we performed any kind of analysis on it. This ambiguity in column description also confined our research scope; with such limited information about the data, we had to narrow down the scope in our analysis. \n",
    " \n",
    "Some limitations arose from the quality of data values themselves as well. Values under `distribution_pattern` in our raw data lacked consistency and uniformity among them, which made it difficult for us to extract useful information from them. Several columns also had incorrect data types assigned to them, disrupting the interpretation of data. For example, the date attributes we used to measure `classification duration` were not exactly \"date\" values, as they were not in the right format for us to compute `classification duration` from them. To resolve this, we performed data normalization on those problematic columns.\n",
    " \n",
    "It is also worth mentioning that we lost a significant amount of data in the normalization process. We initially had ~21,000 observations of recall events. However, after identifying many records that belonged to the same overall recall event and dropping those duplicates, we were left with ~6,000 records. We were still able to perform effective analysis to validate our hypothesis and extract as many valuable insights as possible, but losing about 70% of data in the cleaning process is critical in the effective analysis as asserted by many data specialists: *more data is always better*.\n",
    " \n",
    " \n",
    "\n",
    "\n",
    " ### References\n",
    " \n",
    " 1) [Attribute description](https://console.cloud.google.com/bigquery?p=bigquery-public-data&d=fda_food&t=food_enforcement&page=table&project=silken-avatar-335619&ws=!1m15!1m4!4m3!1sbigquery-public-data!2ssdoh_cdc_wonder_natality!3scounty_natality!1m4!4m3!1sbigquery-public-data!2sfda_food!3sfood_enforcement!1m4!4m3!1sbigquery-public-data!2sfda_food!3sfood_events) -- Google bigquery public-dataset cloud"
   ]
  },
  {
   "cell_type": "markdown",
   "metadata": {},
   "source": [
    "# Team Contributions"
   ]
  },
  {
   "cell_type": "markdown",
   "metadata": {},
   "source": [
    "- Jayden Lee\n",
    "    * Data Sourcing, Data Cleaning, Conclusion\n",
    "- Seth Menn\n",
    "    * Data Cleaning, EDA, Ethics and Privacy\n",
    "- Mingwen Jiang\n",
    "    * Data Cleaning, EDA, Ethics and Pricacy\n",
    "- William Nathan\n",
    "    * Data Cleaning, EDA\n",
    "- Antonio Murillo\n",
    "    * Data Cleaning, EDA"
   ]
  }
 ],
 "metadata": {
  "kernelspec": {
   "display_name": "Python 3 (ipykernel)",
   "language": "python",
   "name": "python3"
  },
  "language_info": {
   "codemirror_mode": {
    "name": "ipython",
    "version": 3
   },
   "file_extension": ".py",
   "mimetype": "text/x-python",
   "name": "python",
   "nbconvert_exporter": "python",
   "pygments_lexer": "ipython3",
   "version": "3.9.10"
  }
 },
 "nbformat": 4,
 "nbformat_minor": 2
}
